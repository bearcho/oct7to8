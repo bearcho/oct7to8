{
 "cells": [
  {
   "cell_type": "markdown",
   "metadata": {},
   "source": [
    "###  숫자 인식 "
   ]
  },
  {
   "cell_type": "code",
   "execution_count": 18,
   "metadata": {},
   "outputs": [],
   "source": [
    "import os\n",
    "import cv2"
   ]
  },
  {
   "cell_type": "code",
   "execution_count": 54,
   "metadata": {},
   "outputs": [],
   "source": [
    "TRAIN_FOLDER = \"../images/MNIST/trainingSet/\"\n",
    "TEST_FOLDER = \"../images/MNIST/testSet/\""
   ]
  },
  {
   "cell_type": "code",
   "execution_count": 6,
   "metadata": {},
   "outputs": [],
   "source": [
    "folderlist = os.listdir(TRAIN_FOLDER)"
   ]
  },
  {
   "cell_type": "code",
   "execution_count": 7,
   "metadata": {},
   "outputs": [],
   "source": [
    "IMG_SIZE = 28"
   ]
  },
  {
   "cell_type": "code",
   "execution_count": 51,
   "metadata": {},
   "outputs": [],
   "source": [
    "train_images = []\n",
    "train_labels = []"
   ]
  },
  {
   "cell_type": "markdown",
   "metadata": {},
   "source": [
    "###  폴더 하나씩 이동"
   ]
  },
  {
   "cell_type": "code",
   "execution_count": 31,
   "metadata": {},
   "outputs": [],
   "source": [
    "import matplotlib.pylab as plt\n",
    "%matplotlib inline"
   ]
  },
  {
   "cell_type": "code",
   "execution_count": 32,
   "metadata": {},
   "outputs": [],
   "source": [
    "import pandas as pd"
   ]
  },
  {
   "cell_type": "code",
   "execution_count": 52,
   "metadata": {
    "scrolled": true
   },
   "outputs": [
    {
     "name": "stdout",
     "output_type": "stream",
     "text": [
      "../images/MNIST/trainingSet/0_zero\\img_0.txt OpenCV(4.1.1) C:\\projects\\opencv-python\\opencv\\modules\\imgproc\\src\\resize.cpp:3720: error: (-215:Assertion failed) !ssize.empty() in function 'cv::resize'\n",
      "\n"
     ]
    }
   ],
   "source": [
    "for i in range (0, len(folderlist)):\n",
    "        path = os.path.join( TRAIN_FOLDER,  folderlist[i])\n",
    "        imgList = os.listdir(path)\n",
    "        for j in range(0, len(imgList)):\n",
    "            try :\n",
    "                inputimgPath = os.path.join(path, imgList[j])\n",
    "                gray = cv2.imread(inputimgPath, cv2.IMREAD_GRAYSCALE)\n",
    "                grayimg = cv2.resize(gray, (IMG_SIZE,IMG_SIZE))\n",
    "                train_images.append(grayimg)\n",
    "                train_labels.append(i)\n",
    "            except Exception as e:\n",
    "                print(inputimgPath, e)\n",
    "                pass"
   ]
  },
  {
   "cell_type": "code",
   "execution_count": 57,
   "metadata": {},
   "outputs": [],
   "source": [
    "from numpy import array\n",
    "import numpy as np"
   ]
  },
  {
   "cell_type": "code",
   "execution_count": 53,
   "metadata": {
    "scrolled": true
   },
   "outputs": [
    {
     "name": "stdout",
     "output_type": "stream",
     "text": [
      "(42000, 28, 28)\n",
      "(42000,)\n"
     ]
    }
   ],
   "source": [
    "print(np.array(train_images).shape)\n",
    "print(np.array(train_labels).shape)"
   ]
  },
  {
   "cell_type": "code",
   "execution_count": 55,
   "metadata": {},
   "outputs": [],
   "source": [
    "TEST_DIR = '../images/mnist/testSet/'\n",
    "test_folder_list = os.listdir(TEST_DIR)\n",
    "test_folder_list\n",
    "\n",
    "test_images=[]\n",
    "test_labels=[]\n",
    "for index in range(0, len(test_folder_list)):\n",
    "    path = os.path.join(TEST_DIR, test_folder_list[index])\n",
    "    path = path + '/'\n",
    "    img_list = os.listdir(path)\n",
    "    for img in img_list:\n",
    "        img_path = os.path.join(path, img)\n",
    "        img = cv2.imread(img_path, cv2.IMREAD_GRAYSCALE)\n",
    "        new_img = cv2.resize(img, (IMG_SIZE, IMG_SIZE))\n",
    "        test_images.append(new_img)\n",
    "        test_labels.append(index)"
   ]
  },
  {
   "cell_type": "code",
   "execution_count": 58,
   "metadata": {},
   "outputs": [],
   "source": [
    "train_images = array(train_images)\n",
    "train_labels = array(train_labels)\n",
    "test_images = array(test_images)\n",
    "test_labels = array(test_labels)"
   ]
  },
  {
   "cell_type": "code",
   "execution_count": 59,
   "metadata": {},
   "outputs": [
    {
     "name": "stdout",
     "output_type": "stream",
     "text": [
      "Training data shape :  (42000, 28, 28) (42000,)\n",
      "Testing data shape :  (200, 28, 28) (200,)\n"
     ]
    }
   ],
   "source": [
    "print('Training data shape : ', train_images.shape, train_labels.shape)\n",
    "print('Testing data shape : ', test_images.shape, test_labels.shape)"
   ]
  },
  {
   "cell_type": "code",
   "execution_count": 60,
   "metadata": {
    "scrolled": true
   },
   "outputs": [
    {
     "name": "stdout",
     "output_type": "stream",
     "text": [
      "Total number of outputs :  10\n",
      "Output classes :  [0 1 2 3 4 5 6 7 8 9]\n"
     ]
    }
   ],
   "source": [
    " \n",
    "# 훈련데이터의 답지분류 범위 정의\n",
    "classes = np.unique(train_labels)\n",
    "nClasses = len(classes)\n",
    "print('Total number of outputs : ', nClasses)\n",
    "print('Output classes : ', classes)\n",
    " "
   ]
  },
  {
   "cell_type": "code",
   "execution_count": 124,
   "metadata": {},
   "outputs": [],
   "source": [
    "train_data = train_images.reshape(len(train_images), IMG_SIZE,IMG_SIZE)\n",
    "test_data = test_images.reshape(len(test_images), IMG_SIZE,IMG_SIZE)"
   ]
  },
  {
   "cell_type": "code",
   "execution_count": 125,
   "metadata": {},
   "outputs": [],
   "source": [
    "train_data = train_data.astype('float')\n",
    "test_data = test_data.astype('float')\n",
    "\n",
    "train_data /= 255\n",
    "test_data /= 255"
   ]
  },
  {
   "cell_type": "code",
   "execution_count": 126,
   "metadata": {},
   "outputs": [
    {
     "data": {
      "text/plain": [
       "array([[0.01176471, 0.        , 0.        , 0.01176471, 0.02745098,\n",
       "        0.01176471, 0.        , 0.01176471, 0.        , 0.04313725,\n",
       "        0.        , 0.        , 0.01176471, 0.        , 0.        ,\n",
       "        0.01176471, 0.03137255, 0.        , 0.        , 0.01176471,\n",
       "        0.        , 0.        , 0.        , 0.00784314, 0.        ,\n",
       "        0.        , 0.        , 0.        ],\n",
       "       [0.        , 0.        , 0.        , 0.        , 0.        ,\n",
       "        0.        , 0.        , 0.00392157, 0.01960784, 0.        ,\n",
       "        0.04705882, 0.        , 0.0627451 , 0.        , 0.        ,\n",
       "        0.01568627, 0.        , 0.00784314, 0.03137255, 0.01176471,\n",
       "        0.        , 0.01568627, 0.03137255, 0.        , 0.        ,\n",
       "        0.        , 0.        , 0.        ],\n",
       "       [0.        , 0.        , 0.00784314, 0.        , 0.        ,\n",
       "        0.        , 0.00392157, 0.00784314, 0.00392157, 0.04705882,\n",
       "        0.        , 0.03137255, 0.        , 0.        , 0.02352941,\n",
       "        0.        , 0.04313725, 0.        , 0.        , 0.02352941,\n",
       "        0.02745098, 0.00784314, 0.        , 0.        , 0.        ,\n",
       "        0.        , 0.        , 0.        ],\n",
       "       [0.        , 0.00392157, 0.01176471, 0.        , 0.        ,\n",
       "        0.00784314, 0.01176471, 0.        , 0.        , 0.        ,\n",
       "        0.04705882, 0.        , 0.        , 0.09019608, 0.        ,\n",
       "        0.        , 0.        , 0.        , 0.04313725, 0.01176471,\n",
       "        0.        , 0.        , 0.01568627, 0.        , 0.        ,\n",
       "        0.        , 0.        , 0.        ],\n",
       "       [0.        , 0.00392157, 0.00392157, 0.        , 0.        ,\n",
       "        0.00784314, 0.        , 0.        , 0.02352941, 0.        ,\n",
       "        0.09803922, 0.10588235, 0.53333333, 0.52941176, 0.7372549 ,\n",
       "        0.34901961, 0.32941176, 0.09803922, 0.        , 0.        ,\n",
       "        0.01176471, 0.00392157, 0.        , 0.        , 0.        ,\n",
       "        0.        , 0.        , 0.        ],\n",
       "       [0.01568627, 0.        , 0.        , 0.        , 0.        ,\n",
       "        0.        , 0.        , 0.        , 0.01176471, 0.34509804,\n",
       "        0.96862745, 0.9254902 , 1.        , 0.97647059, 0.98039216,\n",
       "        0.89019608, 0.94117647, 0.53333333, 0.14509804, 0.00392157,\n",
       "        0.        , 0.00784314, 0.00784314, 0.        , 0.        ,\n",
       "        0.        , 0.        , 0.        ],\n",
       "       [0.00784314, 0.        , 0.        , 0.01176471, 0.        ,\n",
       "        0.        , 0.01568627, 0.10588235, 0.75686275, 0.98431373,\n",
       "        0.99215686, 1.        , 1.        , 1.        , 1.        ,\n",
       "        0.94117647, 0.99607843, 1.        , 0.83529412, 0.34901961,\n",
       "        0.        , 0.        , 0.05490196, 0.00392157, 0.        ,\n",
       "        0.        , 0.        , 0.        ],\n",
       "       [0.        , 0.        , 0.        , 0.02352941, 0.        ,\n",
       "        0.        , 0.07058824, 0.21960784, 0.96470588, 1.        ,\n",
       "        0.99215686, 0.95294118, 0.98431373, 1.        , 0.96078431,\n",
       "        1.        , 1.        , 0.99607843, 1.        , 0.90588235,\n",
       "        0.46666667, 0.02745098, 0.        , 0.01960784, 0.        ,\n",
       "        0.        , 0.        , 0.        ],\n",
       "       [0.01568627, 0.        , 0.        , 0.04705882, 0.05098039,\n",
       "        0.        , 0.25490196, 0.74509804, 0.96470588, 1.        ,\n",
       "        1.        , 0.98431373, 1.        , 0.42745098, 0.34509804,\n",
       "        0.78039216, 1.        , 0.96862745, 0.98039216, 1.        ,\n",
       "        0.91764706, 0.36078431, 0.        , 0.        , 0.        ,\n",
       "        0.        , 0.        , 0.        ],\n",
       "       [0.        , 0.03921569, 0.00392157, 0.        , 0.        ,\n",
       "        0.07058824, 0.63921569, 0.97254902, 1.        , 0.92156863,\n",
       "        0.84705882, 0.58823529, 0.50196078, 0.17647059, 0.02352941,\n",
       "        0.03137255, 0.08627451, 0.83137255, 1.        , 1.        ,\n",
       "        0.98823529, 0.6745098 , 0.        , 0.05882353, 0.        ,\n",
       "        0.        , 0.        , 0.        ],\n",
       "       [0.        , 0.00392157, 0.01568627, 0.01960784, 0.        ,\n",
       "        0.        , 0.73333333, 1.        , 0.99607843, 0.36862745,\n",
       "        0.22352941, 0.02745098, 0.00392157, 0.        , 0.02352941,\n",
       "        0.        , 0.        , 0.54509804, 0.94901961, 1.        ,\n",
       "        1.        , 0.85490196, 0.24313725, 0.        , 0.        ,\n",
       "        0.        , 0.        , 0.        ],\n",
       "       [0.01960784, 0.00784314, 0.        , 0.        , 0.04313725,\n",
       "        0.21960784, 0.98823529, 0.92156863, 0.99215686, 0.07843137,\n",
       "        0.01960784, 0.00784314, 0.01960784, 0.00392157, 0.        ,\n",
       "        0.00392157, 0.00784314, 0.        , 0.38039216, 0.97647059,\n",
       "        0.97254902, 0.97647059, 0.65098039, 0.03137255, 0.        ,\n",
       "        0.        , 0.        , 0.        ],\n",
       "       [0.        , 0.        , 0.00784314, 0.        , 0.        ,\n",
       "        0.2745098 , 1.        , 1.        , 0.96078431, 0.09803922,\n",
       "        0.03921569, 0.        , 0.        , 0.00392157, 0.        ,\n",
       "        0.01568627, 0.03921569, 0.        , 0.03921569, 1.        ,\n",
       "        0.96470588, 0.98039216, 0.60784314, 0.        , 0.        ,\n",
       "        0.        , 0.        , 0.        ],\n",
       "       [0.00784314, 0.        , 0.02745098, 0.04705882, 0.        ,\n",
       "        0.34117647, 0.88627451, 1.        , 0.72156863, 0.        ,\n",
       "        0.01176471, 0.        , 0.03921569, 0.01960784, 0.        ,\n",
       "        0.        , 0.        , 0.03529412, 0.        , 0.71764706,\n",
       "        0.98431373, 1.        , 0.87058824, 0.05882353, 0.        ,\n",
       "        0.        , 0.        , 0.        ],\n",
       "       [0.        , 0.01960784, 0.00392157, 0.        , 0.0745098 ,\n",
       "        0.90196078, 1.        , 0.95294118, 1.        , 0.1372549 ,\n",
       "        0.00784314, 0.        , 0.        , 0.        , 0.        ,\n",
       "        0.03529412, 0.03137255, 0.        , 0.        , 0.2745098 ,\n",
       "        0.96078431, 0.94901961, 1.        , 0.05490196, 0.        ,\n",
       "        0.        , 0.        , 0.        ],\n",
       "       [0.        , 0.01568627, 0.01176471, 0.        , 0.0745098 ,\n",
       "        0.98431373, 0.9372549 , 1.        , 0.96862745, 0.11764706,\n",
       "        0.00392157, 0.        , 0.01568627, 0.01568627, 0.05490196,\n",
       "        0.        , 0.        , 0.00784314, 0.        , 0.18431373,\n",
       "        1.        , 1.        , 0.96862745, 0.08235294, 0.        ,\n",
       "        0.        , 0.        , 0.        ],\n",
       "       [0.02352941, 0.        , 0.00784314, 0.00784314, 0.        ,\n",
       "        0.67843137, 0.96862745, 0.98823529, 0.98039216, 0.10980392,\n",
       "        0.03921569, 0.        , 0.        , 0.03137255, 0.        ,\n",
       "        0.        , 0.        , 0.03137255, 0.        , 0.2627451 ,\n",
       "        0.97647059, 1.        , 1.        , 0.04705882, 0.        ,\n",
       "        0.        , 0.        , 0.        ],\n",
       "       [0.        , 0.        , 0.02352941, 0.01176471, 0.        ,\n",
       "        0.34509804, 1.        , 0.98431373, 1.        , 0.7372549 ,\n",
       "        0.08235294, 0.        , 0.05882353, 0.        , 0.03137255,\n",
       "        0.00784314, 0.0627451 , 0.        , 0.1372549 , 0.78431373,\n",
       "        0.96862745, 0.98431373, 0.5254902 , 0.01568627, 0.        ,\n",
       "        0.        , 0.        , 0.        ],\n",
       "       [0.        , 0.01176471, 0.01176471, 0.00392157, 0.        ,\n",
       "        0.04313725, 0.82745098, 0.96862745, 0.97647059, 1.        ,\n",
       "        0.74117647, 0.29803922, 0.        , 0.        , 0.01568627,\n",
       "        0.        , 0.00784314, 0.        , 0.6627451 , 1.        ,\n",
       "        1.        , 0.96862745, 0.18431373, 0.        , 0.        ,\n",
       "        0.        , 0.        , 0.        ],\n",
       "       [0.        , 0.02352941, 0.        , 0.        , 0.00784314,\n",
       "        0.        , 0.23137255, 0.80392157, 1.        , 0.94117647,\n",
       "        1.        , 0.71372549, 0.16078431, 0.21960784, 0.10980392,\n",
       "        0.12941176, 0.16470588, 0.9372549 , 0.96470588, 0.98431373,\n",
       "        0.93333333, 0.61568627, 0.        , 0.00392157, 0.        ,\n",
       "        0.        , 0.        , 0.        ],\n",
       "       [0.00784314, 0.00392157, 0.        , 0.        , 0.00784314,\n",
       "        0.03921569, 0.        , 0.40784314, 0.9372549 , 1.        ,\n",
       "        0.94117647, 1.        , 0.99215686, 0.96862745, 0.92941176,\n",
       "        1.        , 1.        , 0.98039216, 1.        , 0.9372549 ,\n",
       "        1.        , 0.39215686, 0.        , 0.00392157, 0.        ,\n",
       "        0.        , 0.        , 0.        ],\n",
       "       [0.00392157, 0.        , 0.01176471, 0.        , 0.        ,\n",
       "        0.02745098, 0.        , 0.01568627, 0.44705882, 1.        ,\n",
       "        1.        , 1.        , 1.        , 0.96862745, 0.97647059,\n",
       "        0.99215686, 0.98431373, 0.99607843, 0.92941176, 0.98431373,\n",
       "        0.34901961, 0.        , 0.        , 0.00392157, 0.        ,\n",
       "        0.        , 0.        , 0.        ],\n",
       "       [0.        , 0.        , 0.03529412, 0.        , 0.        ,\n",
       "        0.00392157, 0.05098039, 0.        , 0.05490196, 0.65490196,\n",
       "        1.        , 0.96470588, 0.99215686, 1.        , 1.        ,\n",
       "        0.99607843, 0.94901961, 1.        , 0.95686275, 0.23921569,\n",
       "        0.        , 0.0745098 , 0.        , 0.00392157, 0.        ,\n",
       "        0.        , 0.        , 0.        ],\n",
       "       [0.00784314, 0.00392157, 0.02745098, 0.        , 0.        ,\n",
       "        0.01568627, 0.        , 0.05490196, 0.        , 0.10588235,\n",
       "        0.23921569, 0.56078431, 1.        , 1.        , 0.98823529,\n",
       "        1.        , 0.58431373, 0.08235294, 0.02352941, 0.0627451 ,\n",
       "        0.        , 0.        , 0.02745098, 0.        , 0.        ,\n",
       "        0.        , 0.        , 0.        ],\n",
       "       [0.        , 0.        , 0.        , 0.        , 0.        ,\n",
       "        0.        , 0.        , 0.        , 0.        , 0.        ,\n",
       "        0.        , 0.        , 0.        , 0.        , 0.        ,\n",
       "        0.        , 0.        , 0.        , 0.        , 0.        ,\n",
       "        0.        , 0.        , 0.        , 0.        , 0.        ,\n",
       "        0.        , 0.        , 0.        ],\n",
       "       [0.        , 0.        , 0.        , 0.        , 0.        ,\n",
       "        0.        , 0.        , 0.        , 0.        , 0.        ,\n",
       "        0.        , 0.        , 0.        , 0.        , 0.        ,\n",
       "        0.        , 0.        , 0.        , 0.        , 0.        ,\n",
       "        0.        , 0.        , 0.        , 0.        , 0.        ,\n",
       "        0.        , 0.        , 0.        ],\n",
       "       [0.        , 0.        , 0.        , 0.        , 0.        ,\n",
       "        0.        , 0.        , 0.        , 0.        , 0.        ,\n",
       "        0.        , 0.        , 0.        , 0.        , 0.        ,\n",
       "        0.        , 0.        , 0.        , 0.        , 0.        ,\n",
       "        0.        , 0.        , 0.        , 0.        , 0.        ,\n",
       "        0.        , 0.        , 0.        ],\n",
       "       [0.        , 0.        , 0.        , 0.        , 0.        ,\n",
       "        0.        , 0.        , 0.        , 0.        , 0.        ,\n",
       "        0.        , 0.        , 0.        , 0.        , 0.        ,\n",
       "        0.        , 0.        , 0.        , 0.        , 0.        ,\n",
       "        0.        , 0.        , 0.        , 0.        , 0.        ,\n",
       "        0.        , 0.        , 0.        ]])"
      ]
     },
     "execution_count": 126,
     "metadata": {},
     "output_type": "execute_result"
    }
   ],
   "source": [
    "train_data[0]"
   ]
  },
  {
   "cell_type": "code",
   "execution_count": 127,
   "metadata": {},
   "outputs": [],
   "source": [
    "import keras"
   ]
  },
  {
   "cell_type": "code",
   "execution_count": 128,
   "metadata": {},
   "outputs": [],
   "source": [
    "import os\n",
    "import cv2\n",
    "import keras\n",
    "# 케라스 모델 생성 라이브러리\n",
    "from keras import models\n",
    "# 레이어 생성 라이브러리 (Dense: 입출력 연결)\n",
    "from keras import layers\n",
    "# 케라스 샘플데이터[mnist] 라이브러리 불러오기\n",
    "from keras.datasets import mnist\n",
    "# numpy 라이브러리\n",
    "import numpy as np\n",
    "from numpy import array\n",
    "# 케라스 카테고리 라이브러리\n",
    "from keras.utils import to_categorical\n",
    "#from sklearn.preprocessing import LabelEncoder\n",
    "#from sklearn.preprocessing import OneHotEncoder\n",
    "# 시각화 라이브러리\n",
    "import matplotlib.pyplot as plt\n",
    "%matplotlib inline"
   ]
  },
  {
   "cell_type": "code",
   "execution_count": 129,
   "metadata": {},
   "outputs": [],
   "source": [
    "from keras.utils import to_categorical"
   ]
  },
  {
   "cell_type": "code",
   "execution_count": 130,
   "metadata": {},
   "outputs": [],
   "source": [
    "# Change the labels from integer to categorical data\n",
    "train_labels_one_hot = to_categorical(train_labels)"
   ]
  },
  {
   "cell_type": "code",
   "execution_count": 131,
   "metadata": {},
   "outputs": [
    {
     "data": {
      "text/plain": [
       "9"
      ]
     },
     "execution_count": 131,
     "metadata": {},
     "output_type": "execute_result"
    }
   ],
   "source": [
    "np.argmax(train_labels_one_hot[41999])"
   ]
  },
  {
   "cell_type": "code",
   "execution_count": 132,
   "metadata": {},
   "outputs": [
    {
     "name": "stdout",
     "output_type": "stream",
     "text": [
      "Original label 0 :  2\n",
      "After conversion to categorical ( one-hot ) :  [0. 0. 1. 0. 0. 0. 0. 0. 0. 0.]\n"
     ]
    }
   ],
   "source": [
    "# Change the labels from integer to categorical data\n",
    "train_labels_one_hot = to_categorical(train_labels)\n",
    "test_labels_one_hot = to_categorical(test_labels)\n",
    " \n",
    "# Display the change for category label using one-hot encoding\n",
    "print('Original label 0 : ', train_labels[10000])\n",
    "print('After conversion to categorical ( one-hot ) : ', train_labels_one_hot[10000])"
   ]
  },
  {
   "cell_type": "code",
   "execution_count": 133,
   "metadata": {},
   "outputs": [],
   "source": [
    "from numpy import argmax"
   ]
  },
  {
   "cell_type": "code",
   "execution_count": 134,
   "metadata": {},
   "outputs": [
    {
     "name": "stdout",
     "output_type": "stream",
     "text": [
      "Original label 0 :  0\n",
      "After conversion to categorical ( one-hot ) :  [1. 0. 0. 0. 0. 0. 0. 0. 0. 0.]\n"
     ]
    }
   ],
   "source": [
    "# Display the change for category label using one-hot encoding\n",
    "print('Original label 0 : ', train_labels[2])\n",
    "print('After conversion to categorical ( one-hot ) : ', train_labels_one_hot[2])"
   ]
  },
  {
   "cell_type": "code",
   "execution_count": 135,
   "metadata": {},
   "outputs": [],
   "source": [
    "import keras\n",
    "from keras import Sequential\n",
    "from keras.layers import Flatten, Dense"
   ]
  },
  {
   "cell_type": "code",
   "execution_count": 136,
   "metadata": {},
   "outputs": [
    {
     "data": {
      "text/plain": [
       "(28, 28)"
      ]
     },
     "execution_count": 136,
     "metadata": {},
     "output_type": "execute_result"
    }
   ],
   "source": [
    "# 입력데이터 형태\n",
    "modelDim = train_data[0].shape\n",
    "modelDim"
   ]
  },
  {
   "cell_type": "code",
   "execution_count": 137,
   "metadata": {},
   "outputs": [],
   "source": [
    "model = Sequential()"
   ]
  },
  {
   "cell_type": "code",
   "execution_count": 138,
   "metadata": {},
   "outputs": [],
   "source": [
    "model.add(Flatten(input_shape=modelDim))"
   ]
  },
  {
   "cell_type": "code",
   "execution_count": 139,
   "metadata": {},
   "outputs": [],
   "source": [
    "model.add(Dense(units=8,activation=\"relu\"))\n",
    "model.add(Dense(units=8,activation=\"relu\"))\n",
    "model.add(Dense(units=8,activation=\"relu\"))\n",
    "model.add(Dense(units=8,activation=\"relu\"))\n",
    "model.add(Dense(units=8,activation=\"relu\"))\n",
    "model.add(Dense(units=8,activation=\"relu\"))\n",
    "model.add(Dense(units=10, activation=\"softmax\"))"
   ]
  },
  {
   "cell_type": "code",
   "execution_count": 140,
   "metadata": {},
   "outputs": [
    {
     "name": "stdout",
     "output_type": "stream",
     "text": [
      "Model: \"sequential_4\"\n",
      "_________________________________________________________________\n",
      "Layer (type)                 Output Shape              Param #   \n",
      "=================================================================\n",
      "flatten_4 (Flatten)          (None, 784)               0         \n",
      "_________________________________________________________________\n",
      "dense_24 (Dense)             (None, 8)                 6280      \n",
      "_________________________________________________________________\n",
      "dense_25 (Dense)             (None, 8)                 72        \n",
      "_________________________________________________________________\n",
      "dense_26 (Dense)             (None, 8)                 72        \n",
      "_________________________________________________________________\n",
      "dense_27 (Dense)             (None, 8)                 72        \n",
      "_________________________________________________________________\n",
      "dense_28 (Dense)             (None, 8)                 72        \n",
      "_________________________________________________________________\n",
      "dense_29 (Dense)             (None, 8)                 72        \n",
      "_________________________________________________________________\n",
      "dense_30 (Dense)             (None, 10)                90        \n",
      "=================================================================\n",
      "Total params: 6,730\n",
      "Trainable params: 6,730\n",
      "Non-trainable params: 0\n",
      "_________________________________________________________________\n"
     ]
    }
   ],
   "source": [
    "model.summary()"
   ]
  },
  {
   "cell_type": "code",
   "execution_count": 141,
   "metadata": {},
   "outputs": [],
   "source": [
    "model.compile(loss=\"categorical_crossentropy\", optimizer=\"adam\", metrics=[\"accuracy\"])"
   ]
  },
  {
   "cell_type": "code",
   "execution_count": 142,
   "metadata": {},
   "outputs": [],
   "source": [
    "from keras.callbacks import EarlyStopping, TensorBoard, ModelCheckpoint"
   ]
  },
  {
   "cell_type": "code",
   "execution_count": 150,
   "metadata": {},
   "outputs": [],
   "source": [
    "import warnings"
   ]
  },
  {
   "cell_type": "code",
   "execution_count": null,
   "metadata": {},
   "outputs": [],
   "source": [
    "warnings.filterwarnings(action=\"ignore\")"
   ]
  },
  {
   "cell_type": "code",
   "execution_count": 153,
   "metadata": {},
   "outputs": [],
   "source": [
    "from datetime import datetime"
   ]
  },
  {
   "cell_type": "code",
   "execution_count": 163,
   "metadata": {},
   "outputs": [
    {
     "data": {
      "text/plain": [
       "'2019_10_07_15_30'"
      ]
     },
     "execution_count": 163,
     "metadata": {},
     "output_type": "execute_result"
    }
   ],
   "source": [
    "currentdate = datetime.now().strftime(\"%Y_%m_%d_%H_%M\")\n",
    "currentdate"
   ]
  },
  {
   "cell_type": "code",
   "execution_count": 164,
   "metadata": {},
   "outputs": [],
   "source": [
    "callback_list = [\n",
    "    EarlyStopping(monitor=\"val_loss\", patience=10), \n",
    "    TensorBoard(log_dir=\"./logs_{}\".format(currentdate),\n",
    "            write_images=True, write_graph=True)\n",
    "    \n",
    "]"
   ]
  },
  {
   "cell_type": "code",
   "execution_count": 165,
   "metadata": {},
   "outputs": [
    {
     "name": "stdout",
     "output_type": "stream",
     "text": [
      "Train on 42000 samples, validate on 200 samples\n",
      "Epoch 1/4\n",
      "42000/42000 [==============================] - 2s 55us/step - loss: 1.2062 - accuracy: 0.6333 - val_loss: 0.3702 - val_accuracy: 0.9500\n",
      "Epoch 2/4\n",
      "42000/42000 [==============================] - 2s 53us/step - loss: 0.4354 - accuracy: 0.8819 - val_loss: 0.2619 - val_accuracy: 0.9300\n",
      "Epoch 3/4\n",
      "42000/42000 [==============================] - 2s 53us/step - loss: 0.3552 - accuracy: 0.9026 - val_loss: 0.2435 - val_accuracy: 0.9400\n",
      "Epoch 4/4\n",
      "42000/42000 [==============================] - 2s 58us/step - loss: 0.3279 - accuracy: 0.9099 - val_loss: 0.2374 - val_accuracy: 0.9400\n"
     ]
    },
    {
     "data": {
      "text/plain": [
       "<keras.callbacks.callbacks.History at 0x14e46f3c278>"
      ]
     },
     "execution_count": 165,
     "metadata": {},
     "output_type": "execute_result"
    }
   ],
   "source": [
    "#model.fit(x= train_images, y= train_labels_one_hot, batch_size=32,validation_split=0.2, epochs=4)\n",
    "model.fit(x= train_data, y= train_labels_one_hot, batch_size=32,validation_data=(test_data,test_labels_one_hot), epochs=4\n",
    "         ,callbacks = callback_list\n",
    "         )"
   ]
  },
  {
   "cell_type": "code",
   "execution_count": null,
   "metadata": {},
   "outputs": [],
   "source": []
  },
  {
   "cell_type": "code",
   "execution_count": 35,
   "metadata": {},
   "outputs": [],
   "source": [
    "inputimg = pd.DataFrame(grayimg)"
   ]
  },
  {
   "cell_type": "code",
   "execution_count": 37,
   "metadata": {},
   "outputs": [],
   "source": [
    "inputimg.to_csv(\"D:/train.csv\")"
   ]
  },
  {
   "cell_type": "code",
   "execution_count": 34,
   "metadata": {},
   "outputs": [
    {
     "data": {
      "text/plain": [
       "<matplotlib.image.AxesImage at 0x14e04eab710>"
      ]
     },
     "execution_count": 34,
     "metadata": {},
     "output_type": "execute_result"
    },
    {
     "data": {
      "image/png": "[encoded data removed]",
      "text/plain": [
       "<Figure size 432x288 with 1 Axes>"
      ]
     },
     "metadata": {
      "needs_background": "light"
     },
     "output_type": "display_data"
    }
   ],
   "source": [
    "plt.imshow(grayimg, cmap = \"gray\")"
   ]
  },
  {
   "cell_type": "code",
   "execution_count": null,
   "metadata": {},
   "outputs": [],
   "source": []
  }
 ],
 "metadata": {
  "kernelspec": {
   "display_name": "Python 3",
   "language": "python",
   "name": "python3"
  },
  "language_info": {
   "codemirror_mode": {
    "name": "ipython",
    "version": 3
   },
   "file_extension": ".py",
   "mimetype": "text/x-python",
   "name": "python",
   "nbconvert_exporter": "python",
   "pygments_lexer": "ipython3",
   "version": "3.7.3"
  }
 },
 "nbformat": 4,
 "nbformat_minor": 2
}
