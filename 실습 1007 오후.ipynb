{
 "cells": [
  {
   "cell_type": "markdown",
   "metadata": {},
   "source": [
    "###  숫자 인식 "
   ]
  },
  {
   "cell_type": "code",
   "execution_count": 18,
   "metadata": {},
   "outputs": [],
   "source": [
    "import os\n",
    "import cv2"
   ]
  },
  {
   "cell_type": "code",
   "execution_count": 54,
   "metadata": {},
   "outputs": [],
   "source": [
    "TRAIN_FOLDER = \"../images/MNIST/trainingSet/\"\n",
    "TEST_FOLDER = \"../images/MNIST/testSet/\""
   ]
  },
  {
   "cell_type": "code",
   "execution_count": 6,
   "metadata": {},
   "outputs": [],
   "source": [
    "folderlist = os.listdir(TRAIN_FOLDER)"
   ]
  },
  {
   "cell_type": "code",
   "execution_count": 7,
   "metadata": {},
   "outputs": [],
   "source": [
    "IMG_SIZE = 28"
   ]
  },
  {
   "cell_type": "code",
   "execution_count": 51,
   "metadata": {},
   "outputs": [],
   "source": [
    "train_images = []\n",
    "train_labels = []"
   ]
  },
  {
   "cell_type": "markdown",
   "metadata": {},
   "source": [
    "###  폴더 하나씩 이동"
   ]
  },
  {
   "cell_type": "code",
   "execution_count": 31,
   "metadata": {},
   "outputs": [],
   "source": [
    "import matplotlib.pylab as plt\n",
    "%matplotlib inline"
   ]
  },
  {
   "cell_type": "code",
   "execution_count": 32,
   "metadata": {},
   "outputs": [],
   "source": [
    "import pandas as pd"
   ]
  },
  {
   "cell_type": "code",
   "execution_count": 52,
   "metadata": {
    "scrolled": true
   },
   "outputs": [
    {
     "name": "stdout",
     "output_type": "stream",
     "text": [
      "../images/MNIST/trainingSet/0_zero\\img_0.txt OpenCV(4.1.1) C:\\projects\\opencv-python\\opencv\\modules\\imgproc\\src\\resize.cpp:3720: error: (-215:Assertion failed) !ssize.empty() in function 'cv::resize'\n",
      "\n"
     ]
    }
   ],
   "source": [
    "for i in range (0, len(folderlist)):\n",
    "        path = os.path.join( TRAIN_FOLDER,  folderlist[i])\n",
    "        imgList = os.listdir(path)\n",
    "        for j in range(0, len(imgList)):\n",
    "            try :\n",
    "                inputimgPath = os.path.join(path, imgList[j])\n",
    "                gray = cv2.imread(inputimgPath, cv2.IMREAD_GRAYSCALE)\n",
    "                grayimg = cv2.resize(gray, (IMG_SIZE,IMG_SIZE))\n",
    "                train_images.append(grayimg)\n",
    "                train_labels.append(i)\n",
    "            except Exception as e:\n",
    "                print(inputimgPath, e)\n",
    "                pass"
   ]
  },
  {
   "cell_type": "code",
   "execution_count": 57,
   "metadata": {},
   "outputs": [],
   "source": [
    "from numpy import array\n",
    "import numpy as np"
   ]
  },
  {
   "cell_type": "code",
   "execution_count": 53,
   "metadata": {
    "scrolled": true
   },
   "outputs": [
    {
     "name": "stdout",
     "output_type": "stream",
     "text": [
      "(42000, 28, 28)\n",
      "(42000,)\n"
     ]
    }
   ],
   "source": [
    "print(np.array(train_images).shape)\n",
    "print(np.array(train_labels).shape)"
   ]
  },
  {
   "cell_type": "code",
   "execution_count": 55,
   "metadata": {},
   "outputs": [],
   "source": [
    "TEST_DIR = '../images/mnist/testSet/'\n",
    "test_folder_list = os.listdir(TEST_DIR)\n",
    "test_folder_list\n",
    "\n",
    "test_images=[]\n",
    "test_labels=[]\n",
    "for index in range(0, len(test_folder_list)):\n",
    "    path = os.path.join(TEST_DIR, test_folder_list[index])\n",
    "    path = path + '/'\n",
    "    img_list = os.listdir(path)\n",
    "    for img in img_list:\n",
    "        img_path = os.path.join(path, img)\n",
    "        img = cv2.imread(img_path, cv2.IMREAD_GRAYSCALE)\n",
    "        new_img = cv2.resize(img, (IMG_SIZE, IMG_SIZE))\n",
    "        test_images.append(new_img)\n",
    "        test_labels.append(index)"
   ]
  },
  {
   "cell_type": "code",
   "execution_count": 58,
   "metadata": {},
   "outputs": [],
   "source": [
    "train_images = array(train_images)\n",
    "train_labels = array(train_labels)\n",
    "test_images = array(test_images)\n",
    "test_labels = array(test_labels)"
   ]
  },
  {
   "cell_type": "code",
   "execution_count": 59,
   "metadata": {},
   "outputs": [
    {
     "name": "stdout",
     "output_type": "stream",
     "text": [
      "Training data shape :  (42000, 28, 28) (42000,)\n",
      "Testing data shape :  (200, 28, 28) (200,)\n"
     ]
    }
   ],
   "source": [
    "print('Training data shape : ', train_images.shape, train_labels.shape)\n",
    "print('Testing data shape : ', test_images.shape, test_labels.shape)"
   ]
  },
  {
   "cell_type": "code",
   "execution_count": 60,
   "metadata": {
    "scrolled": true
   },
   "outputs": [
    {
     "name": "stdout",
     "output_type": "stream",
     "text": [
      "Total number of outputs :  10\n",
      "Output classes :  [0 1 2 3 4 5 6 7 8 9]\n"
     ]
    }
   ],
   "source": [
    " \n",
    "# 훈련데이터의 답지분류 범위 정의\n",
    "classes = np.unique(train_labels)\n",
    "nClasses = len(classes)\n",
    "print('Total number of outputs : ', nClasses)\n",
    "print('Output classes : ', classes)\n",
    " "
   ]
  },
  {
   "cell_type": "code",
   "execution_count": 124,
   "metadata": {},
   "outputs": [],
   "source": [
    "train_data = train_images.reshape(len(train_images), IMG_SIZE,IMG_SIZE)\n",
    "test_data = test_images.reshape(len(test_images), IMG_SIZE,IMG_SIZE)"
   ]
  },
  {
   "cell_type": "code",
   "execution_count": 125,
   "metadata": {},
   "outputs": [],
   "source": [
    "train_data = train_data.astype('float')\n",
    "test_data = test_data.astype('float')\n",
    "\n",
    "train_data /= 255\n",
    "test_data /= 255"
   ]
  },
  {
   "cell_type": "code",
   "execution_count": 126,
   "metadata": {},
   "outputs": [
    {
     "data": {
      "text/plain": [
       "array([[0.01176471, 0.        , 0.        , 0.01176471, 0.02745098,\n",
       "        0.01176471, 0.        , 0.01176471, 0.        , 0.04313725,\n",
       "        0.        , 0.        , 0.01176471, 0.        , 0.        ,\n",
       "        0.01176471, 0.03137255, 0.        , 0.        , 0.01176471,\n",
       "        0.        , 0.        , 0.        , 0.00784314, 0.        ,\n",
       "        0.        , 0.        , 0.        ],\n",
       "       [0.        , 0.        , 0.        , 0.        , 0.        ,\n",
       "        0.        , 0.        , 0.00392157, 0.01960784, 0.        ,\n",
       "        0.04705882, 0.        , 0.0627451 , 0.        , 0.        ,\n",
       "        0.01568627, 0.        , 0.00784314, 0.03137255, 0.01176471,\n",
       "        0.        , 0.01568627, 0.03137255, 0.        , 0.        ,\n",
       "        0.        , 0.        , 0.        ],\n",
       "       [0.        , 0.        , 0.00784314, 0.        , 0.        ,\n",
       "        0.        , 0.00392157, 0.00784314, 0.00392157, 0.04705882,\n",
       "        0.        , 0.03137255, 0.        , 0.        , 0.02352941,\n",
       "        0.        , 0.04313725, 0.        , 0.        , 0.02352941,\n",
       "        0.02745098, 0.00784314, 0.        , 0.        , 0.        ,\n",
       "        0.        , 0.        , 0.        ],\n",
       "       [0.        , 0.00392157, 0.01176471, 0.        , 0.        ,\n",
       "        0.00784314, 0.01176471, 0.        , 0.        , 0.        ,\n",
       "        0.04705882, 0.        , 0.        , 0.09019608, 0.        ,\n",
       "        0.        , 0.        , 0.        , 0.04313725, 0.01176471,\n",
       "        0.        , 0.        , 0.01568627, 0.        , 0.        ,\n",
       "        0.        , 0.        , 0.        ],\n",
       "       [0.        , 0.00392157, 0.00392157, 0.        , 0.        ,\n",
       "        0.00784314, 0.        , 0.        , 0.02352941, 0.        ,\n",
       "        0.09803922, 0.10588235, 0.53333333, 0.52941176, 0.7372549 ,\n",
       "        0.34901961, 0.32941176, 0.09803922, 0.        , 0.        ,\n",
       "        0.01176471, 0.00392157, 0.        , 0.        , 0.        ,\n",
       "        0.        , 0.        , 0.        ],\n",
       "       [0.01568627, 0.        , 0.        , 0.        , 0.        ,\n",
       "        0.        , 0.        , 0.        , 0.01176471, 0.34509804,\n",
       "        0.96862745, 0.9254902 , 1.        , 0.97647059, 0.98039216,\n",
       "        0.89019608, 0.94117647, 0.53333333, 0.14509804, 0.00392157,\n",
       "        0.        , 0.00784314, 0.00784314, 0.        , 0.        ,\n",
       "        0.        , 0.        , 0.        ],\n",
       "       [0.00784314, 0.        , 0.        , 0.01176471, 0.        ,\n",
       "        0.        , 0.01568627, 0.10588235, 0.75686275, 0.98431373,\n",
       "        0.99215686, 1.        , 1.        , 1.        , 1.        ,\n",
       "        0.94117647, 0.99607843, 1.        , 0.83529412, 0.34901961,\n",
       "        0.        , 0.        , 0.05490196, 0.00392157, 0.        ,\n",
       "        0.        , 0.        , 0.        ],\n",
       "       [0.        , 0.        , 0.        , 0.02352941, 0.        ,\n",
       "        0.        , 0.07058824, 0.21960784, 0.96470588, 1.        ,\n",
       "        0.99215686, 0.95294118, 0.98431373, 1.        , 0.96078431,\n",
       "        1.        , 1.        , 0.99607843, 1.        , 0.90588235,\n",
       "        0.46666667, 0.02745098, 0.        , 0.01960784, 0.        ,\n",
       "        0.        , 0.        , 0.        ],\n",
       "       [0.01568627, 0.        , 0.        , 0.04705882, 0.05098039,\n",
       "        0.        , 0.25490196, 0.74509804, 0.96470588, 1.        ,\n",
       "        1.        , 0.98431373, 1.        , 0.42745098, 0.34509804,\n",
       "        0.78039216, 1.        , 0.96862745, 0.98039216, 1.        ,\n",
       "        0.91764706, 0.36078431, 0.        , 0.        , 0.        ,\n",
       "        0.        , 0.        , 0.        ],\n",
       "       [0.        , 0.03921569, 0.00392157, 0.        , 0.        ,\n",
       "        0.07058824, 0.63921569, 0.97254902, 1.        , 0.92156863,\n",
       "        0.84705882, 0.58823529, 0.50196078, 0.17647059, 0.02352941,\n",
       "        0.03137255, 0.08627451, 0.83137255, 1.        , 1.        ,\n",
       "        0.98823529, 0.6745098 , 0.        , 0.05882353, 0.        ,\n",
       "        0.        , 0.        , 0.        ],\n",
       "       [0.        , 0.00392157, 0.01568627, 0.01960784, 0.        ,\n",
       "        0.        , 0.73333333, 1.        , 0.99607843, 0.36862745,\n",
       "        0.22352941, 0.02745098, 0.00392157, 0.        , 0.02352941,\n",
       "        0.        , 0.        , 0.54509804, 0.94901961, 1.        ,\n",
       "        1.        , 0.85490196, 0.24313725, 0.        , 0.        ,\n",
       "        0.        , 0.        , 0.        ],\n",
       "       [0.01960784, 0.00784314, 0.        , 0.        , 0.04313725,\n",
       "        0.21960784, 0.98823529, 0.92156863, 0.99215686, 0.07843137,\n",
       "        0.01960784, 0.00784314, 0.01960784, 0.00392157, 0.        ,\n",
       "        0.00392157, 0.00784314, 0.        , 0.38039216, 0.97647059,\n",
       "        0.97254902, 0.97647059, 0.65098039, 0.03137255, 0.        ,\n",
       "        0.        , 0.        , 0.        ],\n",
       "       [0.        , 0.        , 0.00784314, 0.        , 0.        ,\n",
       "        0.2745098 , 1.        , 1.        , 0.96078431, 0.09803922,\n",
       "        0.03921569, 0.        , 0.        , 0.00392157, 0.        ,\n",
       "        0.01568627, 0.03921569, 0.        , 0.03921569, 1.        ,\n",
       "        0.96470588, 0.98039216, 0.60784314, 0.        , 0.        ,\n",
       "        0.        , 0.        , 0.        ],\n",
       "       [0.00784314, 0.        , 0.02745098, 0.04705882, 0.        ,\n",
       "        0.34117647, 0.88627451, 1.        , 0.72156863, 0.        ,\n",
       "        0.01176471, 0.        , 0.03921569, 0.01960784, 0.        ,\n",
       "        0.        , 0.        , 0.03529412, 0.        , 0.71764706,\n",
       "        0.98431373, 1.        , 0.87058824, 0.05882353, 0.        ,\n",
       "        0.        , 0.        , 0.        ],\n",
       "       [0.        , 0.01960784, 0.00392157, 0.        , 0.0745098 ,\n",
       "        0.90196078, 1.        , 0.95294118, 1.        , 0.1372549 ,\n",
       "        0.00784314, 0.        , 0.        , 0.        , 0.        ,\n",
       "        0.03529412, 0.03137255, 0.        , 0.        , 0.2745098 ,\n",
       "        0.96078431, 0.94901961, 1.        , 0.05490196, 0.        ,\n",
       "        0.        , 0.        , 0.        ],\n",
       "       [0.        , 0.01568627, 0.01176471, 0.        , 0.0745098 ,\n",
       "        0.98431373, 0.9372549 , 1.        , 0.96862745, 0.11764706,\n",
       "        0.00392157, 0.        , 0.01568627, 0.01568627, 0.05490196,\n",
       "        0.        , 0.        , 0.00784314, 0.        , 0.18431373,\n",
       "        1.        , 1.        , 0.96862745, 0.08235294, 0.        ,\n",
       "        0.        , 0.        , 0.        ],\n",
       "       [0.02352941, 0.        , 0.00784314, 0.00784314, 0.        ,\n",
       "        0.67843137, 0.96862745, 0.98823529, 0.98039216, 0.10980392,\n",
       "        0.03921569, 0.        , 0.        , 0.03137255, 0.        ,\n",
       "        0.        , 0.        , 0.03137255, 0.        , 0.2627451 ,\n",
       "        0.97647059, 1.        , 1.        , 0.04705882, 0.        ,\n",
       "        0.        , 0.        , 0.        ],\n",
       "       [0.        , 0.        , 0.02352941, 0.01176471, 0.        ,\n",
       "        0.34509804, 1.        , 0.98431373, 1.        , 0.7372549 ,\n",
       "        0.08235294, 0.        , 0.05882353, 0.        , 0.03137255,\n",
       "        0.00784314, 0.0627451 , 0.        , 0.1372549 , 0.78431373,\n",
       "        0.96862745, 0.98431373, 0.5254902 , 0.01568627, 0.        ,\n",
       "        0.        , 0.        , 0.        ],\n",
       "       [0.        , 0.01176471, 0.01176471, 0.00392157, 0.        ,\n",
       "        0.04313725, 0.82745098, 0.96862745, 0.97647059, 1.        ,\n",
       "        0.74117647, 0.29803922, 0.        , 0.        , 0.01568627,\n",
       "        0.        , 0.00784314, 0.        , 0.6627451 , 1.        ,\n",
       "        1.        , 0.96862745, 0.18431373, 0.        , 0.        ,\n",
       "        0.        , 0.        , 0.        ],\n",
       "       [0.        , 0.02352941, 0.        , 0.        , 0.00784314,\n",
       "        0.        , 0.23137255, 0.80392157, 1.        , 0.94117647,\n",
       "        1.        , 0.71372549, 0.16078431, 0.21960784, 0.10980392,\n",
       "        0.12941176, 0.16470588, 0.9372549 , 0.96470588, 0.98431373,\n",
       "        0.93333333, 0.61568627, 0.        , 0.00392157, 0.        ,\n",
       "        0.        , 0.        , 0.        ],\n",
       "       [0.00784314, 0.00392157, 0.        , 0.        , 0.00784314,\n",
       "        0.03921569, 0.        , 0.40784314, 0.9372549 , 1.        ,\n",
       "        0.94117647, 1.        , 0.99215686, 0.96862745, 0.92941176,\n",
       "        1.        , 1.        , 0.98039216, 1.        , 0.9372549 ,\n",
       "        1.        , 0.39215686, 0.        , 0.00392157, 0.        ,\n",
       "        0.        , 0.        , 0.        ],\n",
       "       [0.00392157, 0.        , 0.01176471, 0.        , 0.        ,\n",
       "        0.02745098, 0.        , 0.01568627, 0.44705882, 1.        ,\n",
       "        1.        , 1.        , 1.        , 0.96862745, 0.97647059,\n",
       "        0.99215686, 0.98431373, 0.99607843, 0.92941176, 0.98431373,\n",
       "        0.34901961, 0.        , 0.        , 0.00392157, 0.        ,\n",
       "        0.        , 0.        , 0.        ],\n",
       "       [0.        , 0.        , 0.03529412, 0.        , 0.        ,\n",
       "        0.00392157, 0.05098039, 0.        , 0.05490196, 0.65490196,\n",
       "        1.        , 0.96470588, 0.99215686, 1.        , 1.        ,\n",
       "        0.99607843, 0.94901961, 1.        , 0.95686275, 0.23921569,\n",
       "        0.        , 0.0745098 , 0.        , 0.00392157, 0.        ,\n",
       "        0.        , 0.        , 0.        ],\n",
       "       [0.00784314, 0.00392157, 0.02745098, 0.        , 0.        ,\n",
       "        0.01568627, 0.        , 0.05490196, 0.        , 0.10588235,\n",
       "        0.23921569, 0.56078431, 1.        , 1.        , 0.98823529,\n",
       "        1.        , 0.58431373, 0.08235294, 0.02352941, 0.0627451 ,\n",
       "        0.        , 0.        , 0.02745098, 0.        , 0.        ,\n",
       "        0.        , 0.        , 0.        ],\n",
       "       [0.        , 0.        , 0.        , 0.        , 0.        ,\n",
       "        0.        , 0.        , 0.        , 0.        , 0.        ,\n",
       "        0.        , 0.        , 0.        , 0.        , 0.        ,\n",
       "        0.        , 0.        , 0.        , 0.        , 0.        ,\n",
       "        0.        , 0.        , 0.        , 0.        , 0.        ,\n",
       "        0.        , 0.        , 0.        ],\n",
       "       [0.        , 0.        , 0.        , 0.        , 0.        ,\n",
       "        0.        , 0.        , 0.        , 0.        , 0.        ,\n",
       "        0.        , 0.        , 0.        , 0.        , 0.        ,\n",
       "        0.        , 0.        , 0.        , 0.        , 0.        ,\n",
       "        0.        , 0.        , 0.        , 0.        , 0.        ,\n",
       "        0.        , 0.        , 0.        ],\n",
       "       [0.        , 0.        , 0.        , 0.        , 0.        ,\n",
       "        0.        , 0.        , 0.        , 0.        , 0.        ,\n",
       "        0.        , 0.        , 0.        , 0.        , 0.        ,\n",
       "        0.        , 0.        , 0.        , 0.        , 0.        ,\n",
       "        0.        , 0.        , 0.        , 0.        , 0.        ,\n",
       "        0.        , 0.        , 0.        ],\n",
       "       [0.        , 0.        , 0.        , 0.        , 0.        ,\n",
       "        0.        , 0.        , 0.        , 0.        , 0.        ,\n",
       "        0.        , 0.        , 0.        , 0.        , 0.        ,\n",
       "        0.        , 0.        , 0.        , 0.        , 0.        ,\n",
       "        0.        , 0.        , 0.        , 0.        , 0.        ,\n",
       "        0.        , 0.        , 0.        ]])"
      ]
     },
     "execution_count": 126,
     "metadata": {},
     "output_type": "execute_result"
    }
   ],
   "source": [
    "train_data[0]"
   ]
  },
  {
   "cell_type": "code",
   "execution_count": 127,
   "metadata": {},
   "outputs": [],
   "source": [
    "import keras"
   ]
  },
  {
   "cell_type": "code",
   "execution_count": 128,
   "metadata": {},
   "outputs": [],
   "source": [
    "import os\n",
    "import cv2\n",
    "import keras\n",
    "# 케라스 모델 생성 라이브러리\n",
    "from keras import models\n",
    "# 레이어 생성 라이브러리 (Dense: 입출력 연결)\n",
    "from keras import layers\n",
    "# 케라스 샘플데이터[mnist] 라이브러리 불러오기\n",
    "from keras.datasets import mnist\n",
    "# numpy 라이브러리\n",
    "import numpy as np\n",
    "from numpy import array\n",
    "# 케라스 카테고리 라이브러리\n",
    "from keras.utils import to_categorical\n",
    "#from sklearn.preprocessing import LabelEncoder\n",
    "#from sklearn.preprocessing import OneHotEncoder\n",
    "# 시각화 라이브러리\n",
    "import matplotlib.pyplot as plt\n",
    "%matplotlib inline"
   ]
  },
  {
   "cell_type": "code",
   "execution_count": 129,
   "metadata": {},
   "outputs": [],
   "source": [
    "from keras.utils import to_categorical"
   ]
  },
  {
   "cell_type": "code",
   "execution_count": 130,
   "metadata": {},
   "outputs": [],
   "source": [
    "# Change the labels from integer to categorical data\n",
    "train_labels_one_hot = to_categorical(train_labels)"
   ]
  },
  {
   "cell_type": "code",
   "execution_count": 131,
   "metadata": {},
   "outputs": [
    {
     "data": {
      "text/plain": [
       "9"
      ]
     },
     "execution_count": 131,
     "metadata": {},
     "output_type": "execute_result"
    }
   ],
   "source": [
    "np.argmax(train_labels_one_hot[41999])"
   ]
  },
  {
   "cell_type": "code",
   "execution_count": 132,
   "metadata": {},
   "outputs": [
    {
     "name": "stdout",
     "output_type": "stream",
     "text": [
      "Original label 0 :  2\n",
      "After conversion to categorical ( one-hot ) :  [0. 0. 1. 0. 0. 0. 0. 0. 0. 0.]\n"
     ]
    }
   ],
   "source": [
    "# Change the labels from integer to categorical data\n",
    "train_labels_one_hot = to_categorical(train_labels)\n",
    "test_labels_one_hot = to_categorical(test_labels)\n",
    " \n",
    "# Display the change for category label using one-hot encoding\n",
    "print('Original label 0 : ', train_labels[10000])\n",
    "print('After conversion to categorical ( one-hot ) : ', train_labels_one_hot[10000])"
   ]
  },
  {
   "cell_type": "code",
   "execution_count": 133,
   "metadata": {},
   "outputs": [],
   "source": [
    "from numpy import argmax"
   ]
  },
  {
   "cell_type": "code",
   "execution_count": 134,
   "metadata": {},
   "outputs": [
    {
     "name": "stdout",
     "output_type": "stream",
     "text": [
      "Original label 0 :  0\n",
      "After conversion to categorical ( one-hot ) :  [1. 0. 0. 0. 0. 0. 0. 0. 0. 0.]\n"
     ]
    }
   ],
   "source": [
    "# Display the change for category label using one-hot encoding\n",
    "print('Original label 0 : ', train_labels[2])\n",
    "print('After conversion to categorical ( one-hot ) : ', train_labels_one_hot[2])"
   ]
  },
  {
   "cell_type": "code",
   "execution_count": 135,
   "metadata": {},
   "outputs": [],
   "source": [
    "import keras\n",
    "from keras import Sequential\n",
    "from keras.layers import Flatten, Dense"
   ]
  },
  {
   "cell_type": "code",
   "execution_count": 136,
   "metadata": {
    "scrolled": true
   },
   "outputs": [
    {
     "data": {
      "text/plain": [
       "(28, 28)"
      ]
     },
     "execution_count": 136,
     "metadata": {},
     "output_type": "execute_result"
    }
   ],
   "source": [
    "# 입력데이터 형태\n",
    "modelDim = train_data[0].shape\n",
    "modelDim"
   ]
  },
  {
   "cell_type": "markdown",
   "metadata": {},
   "source": [
    "###  모델 지정"
   ]
  },
  {
   "cell_type": "code",
   "execution_count": 181,
   "metadata": {},
   "outputs": [],
   "source": [
    "model = Sequential()"
   ]
  },
  {
   "cell_type": "code",
   "execution_count": 182,
   "metadata": {},
   "outputs": [],
   "source": [
    "model.add(Flatten(input_shape=modelDim))"
   ]
  },
  {
   "cell_type": "code",
   "execution_count": 183,
   "metadata": {},
   "outputs": [],
   "source": [
    "model.add(Dense(units=8,activation=\"relu\"))\n",
    "model.add(Dense(units=10, activation=\"softmax\"))"
   ]
  },
  {
   "cell_type": "code",
   "execution_count": 184,
   "metadata": {},
   "outputs": [
    {
     "name": "stdout",
     "output_type": "stream",
     "text": [
      "Model: \"sequential_5\"\n",
      "_________________________________________________________________\n",
      "Layer (type)                 Output Shape              Param #   \n",
      "=================================================================\n",
      "flatten_5 (Flatten)          (None, 784)               0         \n",
      "_________________________________________________________________\n",
      "dense_31 (Dense)             (None, 8)                 6280      \n",
      "_________________________________________________________________\n",
      "dense_32 (Dense)             (None, 10)                90        \n",
      "=================================================================\n",
      "Total params: 6,370\n",
      "Trainable params: 6,370\n",
      "Non-trainable params: 0\n",
      "_________________________________________________________________\n"
     ]
    }
   ],
   "source": [
    "model.summary()"
   ]
  },
  {
   "cell_type": "code",
   "execution_count": 185,
   "metadata": {},
   "outputs": [],
   "source": [
    "model.compile(loss=\"categorical_crossentropy\", optimizer=\"adam\", metrics=[\"accuracy\"])"
   ]
  },
  {
   "cell_type": "code",
   "execution_count": 186,
   "metadata": {},
   "outputs": [],
   "source": [
    "from keras.callbacks import EarlyStopping, TensorBoard, ModelCheckpoint"
   ]
  },
  {
   "cell_type": "code",
   "execution_count": 187,
   "metadata": {},
   "outputs": [],
   "source": [
    "import warnings"
   ]
  },
  {
   "cell_type": "code",
   "execution_count": 188,
   "metadata": {},
   "outputs": [],
   "source": [
    "warnings.filterwarnings(action=\"ignore\")"
   ]
  },
  {
   "cell_type": "code",
   "execution_count": 189,
   "metadata": {},
   "outputs": [],
   "source": [
    "from datetime import datetime"
   ]
  },
  {
   "cell_type": "code",
   "execution_count": 190,
   "metadata": {},
   "outputs": [
    {
     "data": {
      "text/plain": [
       "'2019_10_07_16_06'"
      ]
     },
     "execution_count": 190,
     "metadata": {},
     "output_type": "execute_result"
    }
   ],
   "source": [
    "currentdate = datetime.now().strftime(\"%Y_%m_%d_%H_%M\")\n",
    "currentdate"
   ]
  },
  {
   "cell_type": "code",
   "execution_count": 191,
   "metadata": {},
   "outputs": [],
   "source": [
    "callback_list = [\n",
    "    EarlyStopping(monitor=\"val_loss\", patience=10), \n",
    "    TensorBoard(log_dir=\"./logs_{}\".format(currentdate),\n",
    "            write_images=True, write_graph=True),\n",
    "    ModelCheckpoint(\"./model_weights.h5\", monitor=\"val_loss\", verbose=1, save_best_only=True)\n",
    "    \n",
    "]"
   ]
  },
  {
   "cell_type": "code",
   "execution_count": 193,
   "metadata": {
    "scrolled": true
   },
   "outputs": [
    {
     "name": "stdout",
     "output_type": "stream",
     "text": [
      "Train on 42000 samples, validate on 200 samples\n",
      "Epoch 1/5\n",
      "42000/42000 [==============================] - 0s 6us/step - loss: 1.9910 - accuracy: 0.3818 - val_loss: 1.9350 - val_accuracy: 0.4100\n",
      "\n",
      "Epoch 00001: val_loss improved from 1.98431 to 1.93503, saving model to ./model_weights.h5\n",
      "Epoch 2/5\n",
      "42000/42000 [==============================] - 0s 6us/step - loss: 1.9479 - accuracy: 0.4062 - val_loss: 1.8874 - val_accuracy: 0.4400\n",
      "\n",
      "Epoch 00002: val_loss improved from 1.93503 to 1.88738, saving model to ./model_weights.h5\n",
      "Epoch 3/5\n",
      "42000/42000 [==============================] - 0s 6us/step - loss: 1.9060 - accuracy: 0.4215 - val_loss: 1.8404 - val_accuracy: 0.4500\n",
      "\n",
      "Epoch 00003: val_loss improved from 1.88738 to 1.84043, saving model to ./model_weights.h5\n",
      "Epoch 4/5\n",
      "42000/42000 [==============================] - 0s 6us/step - loss: 1.8645 - accuracy: 0.4357 - val_loss: 1.7930 - val_accuracy: 0.4700\n",
      "\n",
      "Epoch 00004: val_loss improved from 1.84043 to 1.79301, saving model to ./model_weights.h5\n",
      "Epoch 5/5\n",
      "42000/42000 [==============================] - 0s 6us/step - loss: 1.8244 - accuracy: 0.4498 - val_loss: 1.7484 - val_accuracy: 0.4950\n",
      "\n",
      "Epoch 00005: val_loss improved from 1.79301 to 1.74837, saving model to ./model_weights.h5\n"
     ]
    },
    {
     "data": {
      "text/plain": [
       "<keras.callbacks.callbacks.History at 0x14e4778ff60>"
      ]
     },
     "execution_count": 193,
     "metadata": {},
     "output_type": "execute_result"
    }
   ],
   "source": [
    "#model.fit(x= train_images, y= train_labels_one_hot, batch_size=32,validation_split=0.2, epochs=4)\n",
    "model.fit(x= train_data, y= train_labels_one_hot, batch_size=21000, validation_data=(test_data,test_labels_one_hot), epochs=5\n",
    "         ,callbacks = callback_list\n",
    "         )"
   ]
  },
  {
   "cell_type": "code",
   "execution_count": 207,
   "metadata": {},
   "outputs": [],
   "source": [
    "# 모델 저장\n",
    "model_json = model.to_json()\n",
    "\n",
    "with open(\"model.json\", \"w\") as json_file:\n",
    "    json_file.write(model_json)\n",
    "\n",
    "model.save_weights(\"classlogic.h5\")"
   ]
  },
  {
   "cell_type": "code",
   "execution_count": 208,
   "metadata": {},
   "outputs": [],
   "source": [
    "# 모델 불러오기\n",
    "from keras.models import model_from_json \n",
    "json_file = open(\"model.json\", \"r\") \n",
    "loaded_model_json = json_file.read() \n",
    "json_file.close() \n",
    "\n",
    "loaded_model = model_from_json(loaded_model_json)\n",
    "loaded_model.load_weights(\"classlogic.h5\") "
   ]
  },
  {
   "cell_type": "code",
   "execution_count": 209,
   "metadata": {},
   "outputs": [],
   "source": [
    "# Sequatial 방싱 케라스모델\n",
    "# 손실함수(LOSS): 훈련동안 최소화될 값 지표 (mse, categorical_crossentropy)\n",
    "# 손실함수를 기반으로 Neural Net 업데이터 결정 (mse, mae, accuracy)\n",
    "loaded_model.compile(optimizer='adam', \n",
    "              loss='categorical_crossentropy', \n",
    "              metrics=['accuracy'])"
   ]
  },
  {
   "cell_type": "code",
   "execution_count": 210,
   "metadata": {
    "scrolled": true
   },
   "outputs": [
    {
     "name": "stdout",
     "output_type": "stream",
     "text": [
      "Epoch 1/5\n",
      "42000/42000 [==============================] - 0s 8us/step - loss: 1.7946 - accuracy: 0.4630\n",
      "Epoch 2/5\n",
      "42000/42000 [==============================] - 0s 6us/step - loss: 1.7741 - accuracy: 0.4744\n",
      "Epoch 3/5\n",
      "42000/42000 [==============================] - 0s 6us/step - loss: 1.7542 - accuracy: 0.4838\n",
      "Epoch 4/5\n",
      "42000/42000 [==============================] - 0s 6us/step - loss: 1.7349 - accuracy: 0.4914\n",
      "Epoch 5/5\n",
      "42000/42000 [==============================] - 0s 6us/step - loss: 1.7160 - accuracy: 0.4986\n"
     ]
    }
   ],
   "source": [
    "# 모델을 32개의 샘플씩 미니 배치를 만들어 20번의 에포크 동안 훈련\n",
    "history = loaded_model.fit(train_data, train_labels_one_hot, \n",
    "                    batch_size=42000,\n",
    "                    epochs=5,\n",
    "                    shuffle=True,\n",
    "                    callbacks = callback_list)"
   ]
  },
  {
   "cell_type": "code",
   "execution_count": 238,
   "metadata": {},
   "outputs": [
    {
     "name": "stdout",
     "output_type": "stream",
     "text": [
      "Epoch 1/5\n",
      "42000/42000 [==============================] - 2s 51us/step - loss: 0.4804 - accuracy: 0.8626\n",
      "Epoch 2/5\n",
      "42000/42000 [==============================] - 2s 48us/step - loss: 0.3410 - accuracy: 0.9026\n",
      "Epoch 3/5\n",
      "42000/42000 [==============================] - 2s 49us/step - loss: 0.3078 - accuracy: 0.9124\n",
      "Epoch 4/5\n",
      "42000/42000 [==============================] - 2s 47us/step - loss: 0.2922 - accuracy: 0.9171\n",
      "Epoch 5/5\n",
      "42000/42000 [==============================] - 2s 46us/step - loss: 0.2815 - accuracy: 0.9198 0s - loss: 0.281\n",
      "Epoch 1/5\n",
      "42000/42000 [==============================] - 2s 54us/step - loss: 0.2727 - accuracy: 0.9206\n",
      "Epoch 2/5\n",
      "42000/42000 [==============================] - 2s 48us/step - loss: 0.2653 - accuracy: 0.9245\n",
      "Epoch 3/5\n",
      "42000/42000 [==============================] - 2s 47us/step - loss: 0.2589 - accuracy: 0.9261\n",
      "Epoch 4/5\n",
      "42000/42000 [==============================] - 2s 47us/step - loss: 0.2531 - accuracy: 0.9266\n",
      "Epoch 5/5\n",
      "42000/42000 [==============================] - 2s 48us/step - loss: 0.2487 - accuracy: 0.9284\n",
      "Epoch 1/5\n",
      "42000/42000 [==============================] - 2s 53us/step - loss: 0.2438 - accuracy: 0.9302\n",
      "Epoch 2/5\n",
      "42000/42000 [==============================] - 2s 51us/step - loss: 0.2394 - accuracy: 0.9308\n",
      "Epoch 3/5\n",
      "42000/42000 [==============================] - 2s 51us/step - loss: 0.2360 - accuracy: 0.9320\n",
      "Epoch 4/5\n",
      "42000/42000 [==============================] - 2s 51us/step - loss: 0.2333 - accuracy: 0.9323\n",
      "Epoch 5/5\n",
      "42000/42000 [==============================] - 2s 51us/step - loss: 0.2309 - accuracy: 0.9336\n",
      "Epoch 1/5\n",
      "42000/42000 [==============================] - 2s 59us/step - loss: 0.2279 - accuracy: 0.9331\n",
      "Epoch 2/5\n",
      "42000/42000 [==============================] - 2s 52us/step - loss: 0.2246 - accuracy: 0.9344\n",
      "Epoch 3/5\n",
      "42000/42000 [==============================] - 2s 53us/step - loss: 0.2231 - accuracy: 0.9349\n",
      "Epoch 4/5\n",
      "42000/42000 [==============================] - 2s 51us/step - loss: 0.2209 - accuracy: 0.9352\n",
      "Epoch 5/5\n",
      "42000/42000 [==============================] - 2s 52us/step - loss: 0.2191 - accuracy: 0.9361\n",
      "Epoch 1/5\n",
      "42000/42000 [==============================] - 2s 59us/step - loss: 0.2165 - accuracy: 0.9371\n",
      "Epoch 2/5\n",
      "42000/42000 [==============================] - 2s 55us/step - loss: 0.2147 - accuracy: 0.9372\n",
      "Epoch 3/5\n",
      "42000/42000 [==============================] - 2s 55us/step - loss: 0.2126 - accuracy: 0.9378\n",
      "Epoch 4/5\n",
      "42000/42000 [==============================] - 3s 71us/step - loss: 0.2118 - accuracy: 0.9384\n",
      "Epoch 5/5\n",
      "42000/42000 [==============================] - 2s 55us/step - loss: 0.2100 - accuracy: 0.9387\n"
     ]
    }
   ],
   "source": [
    "for i in range(5):\n",
    "\n",
    "    # 모델 저장\n",
    "    model_json = loaded_model.to_json()\n",
    "\n",
    "    with open(\"model_re.json\", \"w\") as json_file:\n",
    "        json_file.write(model_json)\n",
    "\n",
    "    loaded_model.save_weights(\"classlogicre.h5\")\n",
    "\n",
    "    # 모델 불러오기\n",
    "    from keras.models import model_from_json \n",
    "    json_file = open(\"model_re.json\", \"r\") \n",
    "    loaded_model_json = json_file.read() \n",
    "    json_file.close() \n",
    "\n",
    "    loaded_model = model_from_json(loaded_model_json)\n",
    "    loaded_model.load_weights(\"classlogicre.h5\") \n",
    "\n",
    "    # Sequatial 방싱 케라스모델\n",
    "    # 손실함수(LOSS): 훈련동안 최소화될 값 지표 (mse, categorical_crossentropy)\n",
    "    # 손실함수를 기반으로 Neural Net 업데이터 결정 (mse, mae, accuracy)\n",
    "    loaded_model.compile(optimizer='adam', \n",
    "                  loss='categorical_crossentropy', \n",
    "                  metrics=['accuracy'])\n",
    "\n",
    "    # 모델을 32개의 샘플씩 미니 배치를 만들어 20번의 에포크 동안 훈련\n",
    "    history = loaded_model.fit(train_data, train_labels_one_hot, \n",
    "                        batch_size=32,\n",
    "                        epochs=5,\n",
    "                        shuffle=True,\n",
    "                        callbacks = callback_list)"
   ]
  },
  {
   "cell_type": "code",
   "execution_count": 233,
   "metadata": {},
   "outputs": [],
   "source": [
    "# 모델 불러오기 for문으로 합침\n",
    "from keras.models import model_from_json \n",
    "json_file = open(\"model_re.json\", \"r\") \n",
    "loaded_model_json = json_file.read() \n",
    "json_file.close() \n",
    "\n",
    "loaded_model = model_from_json(loaded_model_json)\n",
    "loaded_model.load_weights(\"classlogicre.h5\") "
   ]
  },
  {
   "cell_type": "code",
   "execution_count": 234,
   "metadata": {},
   "outputs": [],
   "source": [
    "# Sequatial 방싱 케라스모델\n",
    "# 손실함수(LOSS): 훈련동안 최소화될 값 지표 (mse, categorical_crossentropy)\n",
    "# 손실함수를 기반으로 Neural Net 업데이터 결정 (mse, mae, accuracy)\n",
    "# 위로 합침\n",
    "loaded_model.compile(optimizer='adam', \n",
    "              loss='categorical_crossentropy', \n",
    "              metrics=['accuracy'])"
   ]
  },
  {
   "cell_type": "code",
   "execution_count": 235,
   "metadata": {},
   "outputs": [
    {
     "name": "stdout",
     "output_type": "stream",
     "text": [
      "Epoch 1/5\n",
      "42000/42000 [==============================] - 0s 9us/step - loss: 1.3895 - accuracy: 0.6365\n",
      "Epoch 2/5\n",
      "42000/42000 [==============================] - 0s 6us/step - loss: 1.3765 - accuracy: 0.6416\n",
      "Epoch 3/5\n",
      "42000/42000 [==============================] - 0s 6us/step - loss: 1.3637 - accuracy: 0.6476\n",
      "Epoch 4/5\n",
      "42000/42000 [==============================] - 0s 6us/step - loss: 1.3522 - accuracy: 0.6523\n",
      "Epoch 5/5\n",
      "42000/42000 [==============================] - 0s 6us/step - loss: 1.3397 - accuracy: 0.6570\n"
     ]
    }
   ],
   "source": [
    "# 모델을 32개의 샘플씩 미니 배치를 만들어 20번의 에포크 동안 훈련 위로 합침\n",
    "history = loaded_model.fit(train_data, train_labels_one_hot, \n",
    "                    batch_size=42000,\n",
    "                    epochs=5,\n",
    "                    shuffle=True,\n",
    "                    callbacks = callback_list)"
   ]
  },
  {
   "cell_type": "code",
   "execution_count": null,
   "metadata": {},
   "outputs": [],
   "source": []
  },
  {
   "cell_type": "code",
   "execution_count": 197,
   "metadata": {},
   "outputs": [
    {
     "name": "stdout",
     "output_type": "stream",
     "text": [
      "200/200 [==============================] - 0s 35us/step\n",
      "1.7483689928054809 0.4950000047683716\n"
     ]
    }
   ],
   "source": [
    "loss, accuracy = model.evaluate(x=test_data, y= test_labels_one_hot)\n",
    "print(loss,accuracy)"
   ]
  },
  {
   "cell_type": "code",
   "execution_count": 196,
   "metadata": {},
   "outputs": [
    {
     "name": "stdout",
     "output_type": "stream",
     "text": [
      "1.7483689928054809 0.4950000047683716\n"
     ]
    }
   ],
   "source": []
  },
  {
   "cell_type": "code",
   "execution_count": 174,
   "metadata": {},
   "outputs": [
    {
     "data": {
      "text/plain": [
       "<matplotlib.image.AxesImage at 0x14e47239710>"
      ]
     },
     "execution_count": 174,
     "metadata": {},
     "output_type": "execute_result"
    },
    {
     "data": {
      "image/png": "[encoded data removed]",
      "text/plain": [
       "<Figure size 432x288 with 1 Axes>"
      ]
     },
     "metadata": {
      "needs_background": "light"
     },
     "output_type": "display_data"
    }
   ],
   "source": [
    "prd_images = []\n",
    "imgpah=\"../images/mnist/testSet/5/img_24.jpg\"\n",
    "img = cv2.imread(imgpah, cv2.IMREAD_GRAYSCALE)\n",
    "prd_images.append(img)\n",
    "prd_images=array(prd_images)\n",
    "\n",
    "plt.imshow(img, cmap=\"gray\")"
   ]
  },
  {
   "cell_type": "code",
   "execution_count": 175,
   "metadata": {},
   "outputs": [],
   "source": [
    "test_data2 = prd_images.reshape(len(prd_images) , IMG_SIZE, IMG_SIZE)\n",
    "test_data2 = test_data2.astype('float')\n",
    "test_data2 /= 255"
   ]
  },
  {
   "cell_type": "code",
   "execution_count": 178,
   "metadata": {},
   "outputs": [],
   "source": [
    "# Predict the most likely class\n",
    "label_pred = model.predict(test_data2[[0],:])"
   ]
  },
  {
   "cell_type": "code",
   "execution_count": 179,
   "metadata": {},
   "outputs": [
    {
     "data": {
      "text/plain": [
       "array([[9.6001988e-03, 3.3788248e-07, 1.2054456e-03, 2.7370220e-04,\n",
       "        9.5070479e-04, 9.7909236e-01, 5.9168129e-03, 2.0565747e-06,\n",
       "        1.6172496e-03, 1.3411331e-03]], dtype=float32)"
      ]
     },
     "execution_count": 179,
     "metadata": {},
     "output_type": "execute_result"
    }
   ],
   "source": [
    "label_pred"
   ]
  },
  {
   "cell_type": "code",
   "execution_count": 180,
   "metadata": {},
   "outputs": [
    {
     "data": {
      "text/plain": [
       "5"
      ]
     },
     "execution_count": 180,
     "metadata": {},
     "output_type": "execute_result"
    }
   ],
   "source": [
    "np.argmax(label_pred)"
   ]
  },
  {
   "cell_type": "code",
   "execution_count": null,
   "metadata": {},
   "outputs": [],
   "source": []
  },
  {
   "cell_type": "code",
   "execution_count": 35,
   "metadata": {},
   "outputs": [],
   "source": [
    "inputimg = pd.DataFrame(grayimg)"
   ]
  },
  {
   "cell_type": "code",
   "execution_count": 37,
   "metadata": {},
   "outputs": [],
   "source": [
    "inputimg.to_csv(\"D:/train.csv\")"
   ]
  },
  {
   "cell_type": "code",
   "execution_count": 34,
   "metadata": {},
   "outputs": [
    {
     "data": {
      "text/plain": [
       "<matplotlib.image.AxesImage at 0x14e04eab710>"
      ]
     },
     "execution_count": 34,
     "metadata": {},
     "output_type": "execute_result"
    },
    {
     "data": {
      "image/png": "[encoded data removed]",
      "text/plain": [
       "<Figure size 432x288 with 1 Axes>"
      ]
     },
     "metadata": {
      "needs_background": "light"
     },
     "output_type": "display_data"
    }
   ],
   "source": [
    "plt.imshow(grayimg, cmap = \"gray\")"
   ]
  },
  {
   "cell_type": "code",
   "execution_count": null,
   "metadata": {},
   "outputs": [],
   "source": []
  }
 ],
 "metadata": {
  "kernelspec": {
   "display_name": "Python 3",
   "language": "python",
   "name": "python3"
  },
  "language_info": {
   "codemirror_mode": {
    "name": "ipython",
    "version": 3
   },
   "file_extension": ".py",
   "mimetype": "text/x-python",
   "name": "python",
   "nbconvert_exporter": "python",
   "pygments_lexer": "ipython3",
   "version": "3.7.3"
  }
 },
 "nbformat": 4,
 "nbformat_minor": 2
}
