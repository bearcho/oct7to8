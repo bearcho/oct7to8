{
 "cells": [
  {
   "cell_type": "code",
   "execution_count": 77,
   "metadata": {},
   "outputs": [],
   "source": [
    "# from tensorflow.python.client import device_lib\n",
    "# print(device_lib.list_local_devices())"
   ]
  },
  {
   "cell_type": "markdown",
   "metadata": {},
   "source": [
    "# 1. 라이브러리 선언"
   ]
  },
  {
   "cell_type": "code",
   "execution_count": 45,
   "metadata": {},
   "outputs": [],
   "source": [
    "import keras"
   ]
  },
  {
   "cell_type": "code",
   "execution_count": 46,
   "metadata": {},
   "outputs": [],
   "source": [
    "import os\n",
    "import cv2\n",
    "import keras\n",
    "# 케라스 모델 생성 라이브러리\n",
    "from keras import models\n",
    "# 레이어 생성 라이브러리 (Dense: 입출력 연결)\n",
    "from keras import layers\n",
    "# 케라스 샘플데이터[mnist] 라이브러리 불러오기\n",
    "from keras.datasets import mnist\n",
    "# numpy 라이브러리\n",
    "import numpy as np\n",
    "from numpy import array\n",
    "# 케라스 카테고리 라이브러리\n",
    "from keras.utils import to_categorical\n",
    "#from sklearn.preprocessing import LabelEncoder\n",
    "#from sklearn.preprocessing import OneHotEncoder\n",
    "# 시각화 라이브러리\n",
    "import matplotlib.pyplot as plt\n",
    "%matplotlib inline"
   ]
  },
  {
   "cell_type": "markdown",
   "metadata": {},
   "source": [
    "# 2. 데이터 불러오기"
   ]
  },
  {
   "cell_type": "code",
   "execution_count": 47,
   "metadata": {},
   "outputs": [],
   "source": [
    "import cv2\n",
    "import os\n",
    "import numpy as np\n",
    "from numpy import array\n",
    "import matplotlib.pyplot as plt\n",
    "%matplotlib inline"
   ]
  },
  {
   "cell_type": "markdown",
   "metadata": {},
   "source": [
    "### 1. 훈련데이터 "
   ]
  },
  {
   "cell_type": "code",
   "execution_count": 48,
   "metadata": {},
   "outputs": [
    {
     "data": {
      "text/plain": [
       "array(['0_zero', '1_one', '2_two', '3_three', '4_four', '5_five', '6_six',\n",
       "       '7_seven', '8_eight', '9_nine'], dtype='<U7')"
      ]
     },
     "execution_count": 48,
     "metadata": {},
     "output_type": "execute_result"
    }
   ],
   "source": [
    "# 훈련데이터 디렉토리를 list로 읽어서 array로 변환하기\n",
    "TRAIN_DIR = '../images/mnist/trainingSet/'\n",
    "train_folder_list = array(os.listdir(TRAIN_DIR))\n",
    "train_folder_list"
   ]
  },
  {
   "cell_type": "code",
   "execution_count": 49,
   "metadata": {},
   "outputs": [],
   "source": [
    "# 이미지사이즈를 28로 고정\n",
    "IMG_SIZE = 28\n",
    "train_images=[]\n",
    "train_labels=[]"
   ]
  },
  {
   "cell_type": "code",
   "execution_count": 50,
   "metadata": {},
   "outputs": [
    {
     "name": "stdout",
     "output_type": "stream",
     "text": [
      "filename: ../images/mnist/trainingSet/0_zero/img_0.txt\n",
      "OpenCV(4.1.1) C:\\projects\\opencv-python\\opencv\\modules\\imgproc\\src\\resize.cpp:3720: error: (-215:Assertion failed) !ssize.empty() in function 'cv::resize'\n",
      "\n",
      "42000\n"
     ]
    }
   ],
   "source": [
    "# 1. 디렉토리를 돌면서 각 디렉토리별 이미지를 gray scale로 읽어서\n",
    "# 2. 사이즈를 28로 변경하고 train feature 와 label에 append 한다\n",
    "file_count = 0\n",
    "for index in range(len(train_folder_list)):\n",
    "    path = os.path.join(TRAIN_DIR, train_folder_list[index])\n",
    "    path = path + '/'\n",
    "    img_list = os.listdir(path)\n",
    "    for img in img_list:\n",
    "        img_path = os.path.join(path, img)\n",
    "        try:\n",
    "            img = cv2.imread(img_path, cv2.IMREAD_GRAYSCALE)\n",
    "            new_img = cv2.resize(img, (IMG_SIZE, IMG_SIZE))\n",
    "            train_images.append(new_img)\n",
    "            train_labels.append(index)\n",
    "            file_count += 1\n",
    "        except Exception as e:\n",
    "            print(\"filename:\", img_path)\n",
    "            print(e)\n",
    "            pass\n",
    "print(file_count)"
   ]
  },
  {
   "cell_type": "markdown",
   "metadata": {},
   "source": [
    "### 2. 테스트 데이터 "
   ]
  },
  {
   "cell_type": "code",
   "execution_count": 51,
   "metadata": {},
   "outputs": [
    {
     "data": {
      "text/plain": [
       "array(['0', '1', '2', '3', '4', '5', '6', '7', '8', '9'], dtype='<U1')"
      ]
     },
     "execution_count": 51,
     "metadata": {},
     "output_type": "execute_result"
    }
   ],
   "source": [
    "# 검증데이터 디렉토리를 list로 읽어서 array로 변환하기\n",
    "TEST_DIR = '../images/mnist/testSet/'\n",
    "test_folder_list = array(os.listdir(TEST_DIR))\n",
    "test_folder_list"
   ]
  },
  {
   "cell_type": "code",
   "execution_count": 52,
   "metadata": {},
   "outputs": [
    {
     "name": "stdout",
     "output_type": "stream",
     "text": [
      "200\n"
     ]
    }
   ],
   "source": [
    "test_images=[]\n",
    "test_labels=[]\n",
    "file_count = 0\n",
    "\n",
    "# 1. 디렉토리를 돌면서 각 디렉토리별 이미지를 gray scale로 읽어서\n",
    "# 2. 사이즈를 28로 변경하고 test feature 와 label에 append 한다\n",
    "\n",
    "for index in range(len(test_folder_list)):\n",
    "    path = os.path.join(TEST_DIR, test_folder_list[index])\n",
    "    path = path + '/'\n",
    "    img_list = os.listdir(path)\n",
    "    for img in img_list:\n",
    "        img_path = os.path.join(path, img)\n",
    "        try :\n",
    "            img = cv2.imread(img_path, cv2.IMREAD_GRAYSCALE)\n",
    "            new_img = cv2.resize(img, (IMG_SIZE, IMG_SIZE))\n",
    "            test_images.append(new_img)\n",
    "            test_labels.append(index)\n",
    "            file_count += 1\n",
    "        except Exception as e:\n",
    "            print(\"filename:\", img_path)\n",
    "            print(e)\n",
    "            pass\n",
    "print(file_count)"
   ]
  },
  {
   "cell_type": "markdown",
   "metadata": {},
   "source": [
    "### 3. 데이터셋 확인"
   ]
  },
  {
   "cell_type": "code",
   "execution_count": 53,
   "metadata": {},
   "outputs": [
    {
     "data": {
      "text/plain": [
       "list"
      ]
     },
     "execution_count": 53,
     "metadata": {},
     "output_type": "execute_result"
    }
   ],
   "source": [
    "type(train_images)"
   ]
  },
  {
   "cell_type": "code",
   "execution_count": 54,
   "metadata": {},
   "outputs": [
    {
     "data": {
      "text/plain": [
       "numpy.ndarray"
      ]
     },
     "execution_count": 54,
     "metadata": {},
     "output_type": "execute_result"
    }
   ],
   "source": [
    "# 각 데이터 셋을 list -> array로 변경해준다\n",
    "train_images = array(train_images)\n",
    "train_labels = array(train_labels)\n",
    "test_images = array(test_images)\n",
    "test_labels = array(test_labels)\n",
    "type(train_images)"
   ]
  },
  {
   "cell_type": "code",
   "execution_count": 55,
   "metadata": {},
   "outputs": [
    {
     "name": "stdout",
     "output_type": "stream",
     "text": [
      "Training data shape :  (42000, 28, 28) (42000,)\n",
      "Testing data shape :  (200, 28, 28) (200,)\n"
     ]
    }
   ],
   "source": [
    "print('Training data shape : ', train_images.shape, train_labels.shape)\n",
    "print('Testing data shape : ', test_images.shape, test_labels.shape)"
   ]
  },
  {
   "cell_type": "code",
   "execution_count": 57,
   "metadata": {},
   "outputs": [
    {
     "data": {
      "text/plain": [
       "array([0, 1, 2, 3, 4, 5, 6, 7, 8, 9])"
      ]
     },
     "execution_count": 57,
     "metadata": {},
     "output_type": "execute_result"
    }
   ],
   "source": [
    "# 훈련데이터의 전체 분류 확인\n",
    "np.unique(train_labels)"
   ]
  },
  {
   "cell_type": "code",
   "execution_count": 58,
   "metadata": {},
   "outputs": [
    {
     "name": "stdout",
     "output_type": "stream",
     "text": [
      "Total number of outputs :  10\n",
      "Output classes :  [0 1 2 3 4 5 6 7 8 9]\n"
     ]
    }
   ],
   "source": [
    " \n",
    "# 훈련데이터의 답지분류 범위 정의\n",
    "classes = np.unique(train_labels)\n",
    "nClasses = len(classes)\n",
    "print('Total number of outputs : ', nClasses)\n",
    "print('Output classes : ', classes)\n",
    " "
   ]
  },
  {
   "cell_type": "code",
   "execution_count": 59,
   "metadata": {},
   "outputs": [
    {
     "data": {
      "text/plain": [
       "Text(0.5, 1.0, 'label : 2')"
      ]
     },
     "execution_count": 59,
     "metadata": {},
     "output_type": "execute_result"
    },
    {
     "data": {
      "image/png": "[encoded data removed]",
      "text/plain": [
       "<Figure size 504x360 with 2 Axes>"
      ]
     },
     "metadata": {
      "needs_background": "light"
     },
     "output_type": "display_data"
    }
   ],
   "source": [
    "# 훈련/데이터 데이터 시각화\n",
    "plt.figure(figsize=[7,5])\n",
    "plt.subplot(121)\n",
    "plt.imshow(train_images[0], cmap='gray')\n",
    "plt.title(\"label : {}\".format(train_labels[0]))\n",
    "plt.subplot(122)\n",
    "plt.imshow(test_images[42], cmap='gray')\n",
    "plt.title(\"label : {}\".format(test_labels[42]))"
   ]
  },
  {
   "cell_type": "markdown",
   "metadata": {},
   "source": [
    "### 3-1. 이미지(28*28) 매트릭스 변환 (w,h,d)"
   ]
  },
  {
   "cell_type": "code",
   "execution_count": 61,
   "metadata": {},
   "outputs": [
    {
     "data": {
      "text/plain": [
       "(42000, 28, 28)"
      ]
     },
     "execution_count": 61,
     "metadata": {},
     "output_type": "execute_result"
    }
   ],
   "source": [
    "train_images.shape"
   ]
  },
  {
   "cell_type": "code",
   "execution_count": 62,
   "metadata": {},
   "outputs": [],
   "source": [
    "# reshape(갯수, x축, y축, 차원 ) -> gray scale일 경우 차원은 생략 , 어짜피 1개니까\n",
    "train_data = train_images.reshape(len(train_images), IMG_SIZE,IMG_SIZE)\n",
    "test_data = test_images.reshape(len(test_images), IMG_SIZE,IMG_SIZE)"
   ]
  },
  {
   "cell_type": "code",
   "execution_count": 63,
   "metadata": {},
   "outputs": [
    {
     "data": {
      "text/plain": [
       "(42000, 28, 28)"
      ]
     },
     "execution_count": 63,
     "metadata": {},
     "output_type": "execute_result"
    }
   ],
   "source": [
    "train_images.shape"
   ]
  },
  {
   "cell_type": "code",
   "execution_count": 64,
   "metadata": {},
   "outputs": [
    {
     "data": {
      "text/plain": [
       "(42000, 28, 28)"
      ]
     },
     "execution_count": 64,
     "metadata": {},
     "output_type": "execute_result"
    }
   ],
   "source": [
    "train_data.shape"
   ]
  },
  {
   "cell_type": "code",
   "execution_count": 66,
   "metadata": {},
   "outputs": [
    {
     "data": {
      "text/plain": [
       "array([ 0,  0,  0,  0,  0,  0,  0,  1,  5,  0, 12,  0, 16,  0,  0,  4,  0,\n",
       "        2,  8,  3,  0,  4,  8,  0,  0,  0,  0,  0], dtype=uint8)"
      ]
     },
     "execution_count": 66,
     "metadata": {},
     "output_type": "execute_result"
    }
   ],
   "source": [
    "train_images[0][1]"
   ]
  },
  {
   "cell_type": "markdown",
   "metadata": {},
   "source": [
    "### 3-2. float 타입변환 및 정규화"
   ]
  },
  {
   "cell_type": "code",
   "execution_count": 68,
   "metadata": {},
   "outputs": [
    {
     "data": {
      "text/plain": [
       "array([0.00000000e+00, 0.00000000e+00, 0.00000000e+00, 0.00000000e+00,\n",
       "       0.00000000e+00, 0.00000000e+00, 0.00000000e+00, 1.53787005e-05,\n",
       "       7.68935025e-05, 0.00000000e+00, 1.84544406e-04, 0.00000000e+00,\n",
       "       2.46059208e-04, 0.00000000e+00, 0.00000000e+00, 6.15148020e-05,\n",
       "       0.00000000e+00, 3.07574010e-05, 1.23029604e-04, 4.61361015e-05,\n",
       "       0.00000000e+00, 6.15148020e-05, 1.23029604e-04, 0.00000000e+00,\n",
       "       0.00000000e+00, 0.00000000e+00, 0.00000000e+00, 0.00000000e+00])"
      ]
     },
     "execution_count": 68,
     "metadata": {},
     "output_type": "execute_result"
    }
   ],
   "source": [
    "train_data = train_data.astype('float')\n",
    "test_data = test_data.astype('float')\n",
    "\n",
    "train_data /= 255\n",
    "test_data /= 255\n",
    "\n",
    "train_data[0][1]"
   ]
  },
  {
   "cell_type": "markdown",
   "metadata": {},
   "source": [
    "### 3-3. 답지 분류형으로 변환"
   ]
  },
  {
   "cell_type": "code",
   "execution_count": 69,
   "metadata": {},
   "outputs": [],
   "source": [
    "from keras.utils import to_categorical"
   ]
  },
  {
   "cell_type": "code",
   "execution_count": 70,
   "metadata": {
    "scrolled": true
   },
   "outputs": [
    {
     "name": "stdout",
     "output_type": "stream",
     "text": [
      "Original label 0 :  2\n",
      "After conversion to categorical ( one-hot ) :  [0. 0. 1. 0. 0. 0. 0. 0. 0. 0.]\n"
     ]
    }
   ],
   "source": [
    "# Change the labels from integer to categorical data\n",
    "train_labels_one_hot = to_categorical(train_labels)\n",
    "test_labels_one_hot = to_categorical(test_labels)\n",
    " \n",
    "# Display the change for category label using one-hot encoding\n",
    "print('Original label 0 : ', train_labels[10000])\n",
    "print('After conversion to categorical ( one-hot ) : ', train_labels_one_hot[10000])"
   ]
  },
  {
   "cell_type": "code",
   "execution_count": 71,
   "metadata": {},
   "outputs": [
    {
     "data": {
      "text/plain": [
       "array([0., 0., 0., 0., 0., 0., 0., 0., 0., 1.], dtype=float32)"
      ]
     },
     "execution_count": 71,
     "metadata": {},
     "output_type": "execute_result"
    }
   ],
   "source": [
    "train_labels_one_hot[41999]"
   ]
  },
  {
   "cell_type": "code",
   "execution_count": 72,
   "metadata": {},
   "outputs": [
    {
     "data": {
      "text/plain": [
       "(200, 10)"
      ]
     },
     "execution_count": 72,
     "metadata": {},
     "output_type": "execute_result"
    }
   ],
   "source": [
    "test_labels_one_hot.shape"
   ]
  },
  {
   "cell_type": "code",
   "execution_count": 73,
   "metadata": {},
   "outputs": [],
   "source": [
    "from numpy import argmax"
   ]
  },
  {
   "cell_type": "code",
   "execution_count": 74,
   "metadata": {},
   "outputs": [
    {
     "data": {
      "text/plain": [
       "2"
      ]
     },
     "execution_count": 74,
     "metadata": {},
     "output_type": "execute_result"
    }
   ],
   "source": [
    "argmax(train_labels_one_hot[10000])"
   ]
  },
  {
   "cell_type": "code",
   "execution_count": 75,
   "metadata": {},
   "outputs": [
    {
     "name": "stdout",
     "output_type": "stream",
     "text": [
      "Original label 0 :  0\n",
      "After conversion to categorical ( one-hot ) :  [1. 0. 0. 0. 0. 0. 0. 0. 0. 0.]\n"
     ]
    }
   ],
   "source": [
    "# Display the change for category label using one-hot encoding\n",
    "print('Original label 0 : ', train_labels[2])\n",
    "print('After conversion to categorical ( one-hot ) : ', train_labels_one_hot[2])"
   ]
  },
  {
   "cell_type": "markdown",
   "metadata": {},
   "source": [
    "# 4. 케라스 모델 정의"
   ]
  },
  {
   "cell_type": "code",
   "execution_count": 76,
   "metadata": {},
   "outputs": [
    {
     "data": {
      "text/plain": [
       "(28, 28)"
      ]
     },
     "execution_count": 76,
     "metadata": {},
     "output_type": "execute_result"
    }
   ],
   "source": [
    "# 입력데이터 형태\n",
    "modelDim = train_data[0].shape\n",
    "modelDim"
   ]
  },
  {
   "cell_type": "code",
   "execution_count": 77,
   "metadata": {},
   "outputs": [],
   "source": [
    "import keras\n",
    "from keras import Sequential\n",
    "from keras.layers import Flatten, Dense"
   ]
  },
  {
   "cell_type": "code",
   "execution_count": 78,
   "metadata": {},
   "outputs": [
    {
     "data": {
      "text/plain": [
       "(28, 28)"
      ]
     },
     "execution_count": 78,
     "metadata": {},
     "output_type": "execute_result"
    }
   ],
   "source": [
    "# 입력데이터 형태\n",
    "train_data[0].shape"
   ]
  },
  {
   "cell_type": "code",
   "execution_count": 143,
   "metadata": {},
   "outputs": [
    {
     "name": "stdout",
     "output_type": "stream",
     "text": [
      "Model: \"sequential_7\"\n",
      "_________________________________________________________________\n",
      "Layer (type)                 Output Shape              Param #   \n",
      "=================================================================\n",
      "flatten_7 (Flatten)          (None, 784)               0         \n",
      "_________________________________________________________________\n",
      "dense_13 (Dense)             (None, 8)                 6280      \n",
      "_________________________________________________________________\n",
      "dense_14 (Dense)             (None, 10)                90        \n",
      "=================================================================\n",
      "Total params: 6,370\n",
      "Trainable params: 6,370\n",
      "Non-trainable params: 0\n",
      "_________________________________________________________________\n"
     ]
    }
   ],
   "source": [
    "# 입력데이터 형태\n",
    "modelDim = train_data[0].shape\n",
    "\n",
    "# 층 누적 기본형태\n",
    "model = Sequential()\n",
    "\n",
    "# 신경망의 첫 번째 레이어에서 입력 데이터 크기를 정의해야 합니다.\n",
    "model.add(Flatten(input_shape=modelDim))\n",
    "\n",
    "# 8개의 뉴런 레이어를 추가한다\n",
    "model.add(Dense(8, activation='relu'))\n",
    "\n",
    "# 소프트 맥스를 통해서 activation한다\n",
    "model.add(Dense(nClasses, activation='softmax'))\n",
    "\n",
    "# model.summary()를 통해 모델을 살펴보세요.\n",
    "model.summary()"
   ]
  },
  {
   "cell_type": "code",
   "execution_count": 144,
   "metadata": {},
   "outputs": [
    {
     "data": {
      "image/png": "[encoded data removed]",
      "text/plain": [
       "<IPython.core.display.Image object>"
      ]
     },
     "execution_count": 144,
     "metadata": {
      "image/png": {
       "height": 202,
       "width": 219
      }
     },
     "output_type": "execute_result"
    }
   ],
   "source": [
    "# 모델 시각화\n",
    "from keras.utils import plot_model\n",
    "plot_model(model, to_file='model_plot.png', \n",
    "           show_shapes=True, \n",
    "           show_layer_names=True)\n",
    "from IPython.display import Image\n",
    "Image(retina=True, filename='model_plot.png')"
   ]
  },
  {
   "cell_type": "markdown",
   "metadata": {},
   "source": [
    "# 5. 케라스모델 훈련방법 설정"
   ]
  },
  {
   "cell_type": "code",
   "execution_count": 145,
   "metadata": {},
   "outputs": [],
   "source": [
    "# Sequatial 방싱 케라스모델\n",
    "# 손실함수(LOSS): 훈련동안 최소화될 값 지표 (mse, categorical_crossentropy)\n",
    "# 손실함수를 기반으로 Neural Net 업데이터 결정 (mse, mae, accuracy)\n",
    "\n",
    "# loss 는 카테고리 일경우는 categorical_crossentropy , 숫자 예상 (금액등...) 일경우 mse\n",
    "model.compile(optimizer='adam', \n",
    "              loss='categorical_crossentropy', \n",
    "              metrics=['accuracy'])"
   ]
  },
  {
   "cell_type": "markdown",
   "metadata": {},
   "source": [
    "# 6. 모델 훈련"
   ]
  },
  {
   "cell_type": "code",
   "execution_count": 146,
   "metadata": {},
   "outputs": [],
   "source": [
    "# from tensorflow.python.client import device_lib\n",
    "# print(device_lib.list_local_devices())"
   ]
  },
  {
   "cell_type": "code",
   "execution_count": 147,
   "metadata": {},
   "outputs": [
    {
     "name": "stdout",
     "output_type": "stream",
     "text": [
      "총 소요시간:  1.649999921937706e-05\n"
     ]
    }
   ],
   "source": [
    "import timeit\n",
    "start = timeit.default_timer()\n",
    "\n",
    "# 실행 코드\n",
    "\n",
    "stop = timeit.default_timer()\n",
    "print(\"총 소요시간: \", stop - start)"
   ]
  },
  {
   "cell_type": "code",
   "execution_count": 149,
   "metadata": {
    "scrolled": false
   },
   "outputs": [
    {
     "name": "stdout",
     "output_type": "stream",
     "text": [
      "Train on 33600 samples, validate on 8400 samples\n",
      "Epoch 1/2\n",
      "33600/33600 [==============================] - 1s 35us/step - loss: 2.1053 - accuracy: 0.2825 - val_loss: 4.9914 - val_accuracy: 0.0000e+00\n",
      "Epoch 2/2\n",
      "33600/33600 [==============================] - 1s 38us/step - loss: 1.8262 - accuracy: 0.3872 - val_loss: 6.2993 - val_accuracy: 7.1429e-04\n"
     ]
    }
   ],
   "source": [
    "from datetime import datetime\n",
    "now = datetime.now()\n",
    "date = now.strftime(\"%Y-%m-%d_%H%M\")\n",
    "save_dir = \"./logs_{}\".format(date)\n",
    "\n",
    "callbacks = [\n",
    "    \n",
    "    # 텐서보드 활용\n",
    "    keras.callbacks.TensorBoard(\n",
    "    log_dir = save_dir,\n",
    "    write_graph=True,\n",
    "    write_images=True)\n",
    "    ,  \n",
    "    # 과적합 피하기 (계속해서 학습시키면 나중에 오차가 더 높아진다. 미리 끊어줌)\n",
    "    # patience -> 몇번 연속 손실을 참을것인가\n",
    "    keras.callbacks.EarlyStopping(\n",
    "    monitor = 'acc', patience=10,\n",
    "    )\n",
    "]\n",
    "\n",
    "# 모델을 32개의 샘플씩 미니 배치를 만들어 20번의 에포크 동안 훈련\n",
    "history = model.fit(train_data, train_labels_one_hot, \n",
    "                    validation_split=0.2, # 80%훈련 20%검증 -> 순서대로 검증 데이터를 만들기 때문에 데이터가 섞이지 않음\n",
    "                    #batch_size=33600,\n",
    "                    epochs=2,\n",
    "                    shuffle=True,\n",
    "                    callbacks = callbacks)"
   ]
  },
  {
   "cell_type": "code",
   "execution_count": 150,
   "metadata": {},
   "outputs": [],
   "source": [
    "import pandas as pd"
   ]
  },
  {
   "cell_type": "code",
   "execution_count": 151,
   "metadata": {},
   "outputs": [
    {
     "data": {
      "text/html": [
       "<div>\n",
       "<style scoped>\n",
       "    .dataframe tbody tr th:only-of-type {\n",
       "        vertical-align: middle;\n",
       "    }\n",
       "\n",
       "    .dataframe tbody tr th {\n",
       "        vertical-align: top;\n",
       "    }\n",
       "\n",
       "    .dataframe thead th {\n",
       "        text-align: right;\n",
       "    }\n",
       "</style>\n",
       "<table border=\"1\" class=\"dataframe\">\n",
       "  <thead>\n",
       "    <tr style=\"text-align: right;\">\n",
       "      <th></th>\n",
       "      <th>val_loss</th>\n",
       "      <th>val_accuracy</th>\n",
       "      <th>loss</th>\n",
       "      <th>accuracy</th>\n",
       "    </tr>\n",
       "  </thead>\n",
       "  <tbody>\n",
       "    <tr>\n",
       "      <th>0</th>\n",
       "      <td>4.991352</td>\n",
       "      <td>0.000000</td>\n",
       "      <td>2.105259</td>\n",
       "      <td>0.282470</td>\n",
       "    </tr>\n",
       "    <tr>\n",
       "      <th>1</th>\n",
       "      <td>6.299307</td>\n",
       "      <td>0.000714</td>\n",
       "      <td>1.826241</td>\n",
       "      <td>0.387232</td>\n",
       "    </tr>\n",
       "  </tbody>\n",
       "</table>\n",
       "</div>"
      ],
      "text/plain": [
       "   val_loss  val_accuracy      loss  accuracy\n",
       "0  4.991352      0.000000  2.105259  0.282470\n",
       "1  6.299307      0.000714  1.826241  0.387232"
      ]
     },
     "execution_count": 151,
     "metadata": {},
     "output_type": "execute_result"
    }
   ],
   "source": [
    "# loss function이 점점 줄어듦 (tail로 확인)\n",
    "pd.DataFrame(history.history).tail(10)"
   ]
  },
  {
   "cell_type": "code",
   "execution_count": 152,
   "metadata": {},
   "outputs": [],
   "source": [
    "# 훈련용 검증용 분리\n",
    "from sklearn.model_selection import train_test_split\n",
    "\n",
    "trainingData_features,\\\n",
    "validData_features,\\\n",
    "trainingData_label,\\\n",
    "validData_label=\\\n",
    "train_test_split(train_data, train_labels_one_hot, test_size = 0.2, random_state=20)"
   ]
  },
  {
   "cell_type": "code",
   "execution_count": 153,
   "metadata": {},
   "outputs": [
    {
     "name": "stdout",
     "output_type": "stream",
     "text": [
      "Train on 33600 samples, validate on 8400 samples\n",
      "Epoch 1/20\n",
      "33600/33600 [==============================] - 1s 41us/step - loss: 2.0121 - accuracy: 0.3434 - val_loss: 1.8413 - val_accuracy: 0.3795\n",
      "Epoch 2/20\n",
      "33600/33600 [==============================] - 1s 43us/step - loss: 1.7420 - accuracy: 0.4005 - val_loss: 1.6500 - val_accuracy: 0.4275\n",
      "Epoch 3/20\n",
      "33600/33600 [==============================] - 1s 42us/step - loss: 1.5713 - accuracy: 0.4612 - val_loss: 1.4996 - val_accuracy: 0.4960\n",
      "Epoch 4/20\n",
      "33600/33600 [==============================] - 1s 41us/step - loss: 1.4377 - accuracy: 0.5151 - val_loss: 1.3817 - val_accuracy: 0.5508\n",
      "Epoch 5/20\n",
      "33600/33600 [==============================] - 1s 43us/step - loss: 1.3320 - accuracy: 0.5590 - val_loss: 1.2862 - val_accuracy: 0.5694\n",
      "Epoch 6/20\n",
      "33600/33600 [==============================] - 1s 42us/step - loss: 1.2443 - accuracy: 0.5857 - val_loss: 1.2056 - val_accuracy: 0.5939\n",
      "Epoch 7/20\n",
      "33600/33600 [==============================] - 2s 48us/step - loss: 1.1692 - accuracy: 0.6106 - val_loss: 1.1373 - val_accuracy: 0.6264\n",
      "Epoch 8/20\n",
      "33600/33600 [==============================] - 1s 44us/step - loss: 1.1041 - accuracy: 0.6401 - val_loss: 1.0772 - val_accuracy: 0.6454\n",
      "Epoch 9/20\n",
      "33600/33600 [==============================] - 1s 44us/step - loss: 1.0478 - accuracy: 0.6642 - val_loss: 1.0246 - val_accuracy: 0.6695\n",
      "Epoch 10/20\n",
      "33600/33600 [==============================] - 1s 41us/step - loss: 0.9990 - accuracy: 0.6834 - val_loss: 0.9801 - val_accuracy: 0.6865\n",
      "Epoch 11/20\n",
      "33600/33600 [==============================] - 1s 41us/step - loss: 0.9569 - accuracy: 0.6982 - val_loss: 0.9421 - val_accuracy: 0.6980\n",
      "Epoch 12/20\n",
      "33600/33600 [==============================] - 2s 45us/step - loss: 0.9211 - accuracy: 0.7107 - val_loss: 0.9083 - val_accuracy: 0.7080\n",
      "Epoch 13/20\n",
      "33600/33600 [==============================] - 1s 41us/step - loss: 0.8908 - accuracy: 0.7204 - val_loss: 0.8808 - val_accuracy: 0.7142\n",
      "Epoch 14/20\n",
      "33600/33600 [==============================] - 1s 42us/step - loss: 0.8648 - accuracy: 0.7283 - val_loss: 0.8576 - val_accuracy: 0.7242\n",
      "Epoch 15/20\n",
      "33600/33600 [==============================] - 2s 45us/step - loss: 0.8430 - accuracy: 0.7344 - val_loss: 0.8378 - val_accuracy: 0.7270\n",
      "Epoch 16/20\n",
      "33600/33600 [==============================] - 1s 43us/step - loss: 0.8242 - accuracy: 0.7403 - val_loss: 0.8205 - val_accuracy: 0.7352\n",
      "Epoch 17/20\n",
      "33600/33600 [==============================] - 2s 48us/step - loss: 0.8080 - accuracy: 0.7434 - val_loss: 0.8062 - val_accuracy: 0.7370\n",
      "Epoch 18/20\n",
      "33600/33600 [==============================] - 2s 48us/step - loss: 0.7941 - accuracy: 0.7476 - val_loss: 0.7942 - val_accuracy: 0.7385\n",
      "Epoch 19/20\n",
      "33600/33600 [==============================] - 2s 49us/step - loss: 0.7822 - accuracy: 0.7503 - val_loss: 0.7823 - val_accuracy: 0.7446\n",
      "Epoch 20/20\n",
      "33600/33600 [==============================] - 2s 46us/step - loss: 0.7715 - accuracy: 0.7538 - val_loss: 0.7723 - val_accuracy: 0.7483\n"
     ]
    }
   ],
   "source": [
    "# 모델을 32개의 샘플씩 미니 배치를 만들어 20번의 에포크 동안 훈련\n",
    "history = model.fit(trainingData_features, trainingData_label, \n",
    "                    validation_data=(validData_features,validData_label),\n",
    "                    batch_size=32,\n",
    "                    epochs=20,\n",
    "                    callbacks = callbacks)"
   ]
  },
  {
   "cell_type": "code",
   "execution_count": 154,
   "metadata": {},
   "outputs": [
    {
     "data": {
      "text/html": [
       "<div>\n",
       "<style scoped>\n",
       "    .dataframe tbody tr th:only-of-type {\n",
       "        vertical-align: middle;\n",
       "    }\n",
       "\n",
       "    .dataframe tbody tr th {\n",
       "        vertical-align: top;\n",
       "    }\n",
       "\n",
       "    .dataframe thead th {\n",
       "        text-align: right;\n",
       "    }\n",
       "</style>\n",
       "<table border=\"1\" class=\"dataframe\">\n",
       "  <thead>\n",
       "    <tr style=\"text-align: right;\">\n",
       "      <th></th>\n",
       "      <th>val_loss</th>\n",
       "      <th>val_accuracy</th>\n",
       "      <th>loss</th>\n",
       "      <th>accuracy</th>\n",
       "    </tr>\n",
       "  </thead>\n",
       "  <tbody>\n",
       "    <tr>\n",
       "      <th>10</th>\n",
       "      <td>0.942059</td>\n",
       "      <td>0.697976</td>\n",
       "      <td>0.956941</td>\n",
       "      <td>0.698155</td>\n",
       "    </tr>\n",
       "    <tr>\n",
       "      <th>11</th>\n",
       "      <td>0.908306</td>\n",
       "      <td>0.707976</td>\n",
       "      <td>0.921067</td>\n",
       "      <td>0.710655</td>\n",
       "    </tr>\n",
       "    <tr>\n",
       "      <th>12</th>\n",
       "      <td>0.880802</td>\n",
       "      <td>0.714167</td>\n",
       "      <td>0.890765</td>\n",
       "      <td>0.720417</td>\n",
       "    </tr>\n",
       "    <tr>\n",
       "      <th>13</th>\n",
       "      <td>0.857557</td>\n",
       "      <td>0.724167</td>\n",
       "      <td>0.864835</td>\n",
       "      <td>0.728304</td>\n",
       "    </tr>\n",
       "    <tr>\n",
       "      <th>14</th>\n",
       "      <td>0.837791</td>\n",
       "      <td>0.727024</td>\n",
       "      <td>0.843048</td>\n",
       "      <td>0.734375</td>\n",
       "    </tr>\n",
       "    <tr>\n",
       "      <th>15</th>\n",
       "      <td>0.820489</td>\n",
       "      <td>0.735238</td>\n",
       "      <td>0.824169</td>\n",
       "      <td>0.740327</td>\n",
       "    </tr>\n",
       "    <tr>\n",
       "      <th>16</th>\n",
       "      <td>0.806187</td>\n",
       "      <td>0.737024</td>\n",
       "      <td>0.808030</td>\n",
       "      <td>0.743393</td>\n",
       "    </tr>\n",
       "    <tr>\n",
       "      <th>17</th>\n",
       "      <td>0.794224</td>\n",
       "      <td>0.738452</td>\n",
       "      <td>0.794140</td>\n",
       "      <td>0.747589</td>\n",
       "    </tr>\n",
       "    <tr>\n",
       "      <th>18</th>\n",
       "      <td>0.782268</td>\n",
       "      <td>0.744643</td>\n",
       "      <td>0.782165</td>\n",
       "      <td>0.750298</td>\n",
       "    </tr>\n",
       "    <tr>\n",
       "      <th>19</th>\n",
       "      <td>0.772296</td>\n",
       "      <td>0.748333</td>\n",
       "      <td>0.771481</td>\n",
       "      <td>0.753839</td>\n",
       "    </tr>\n",
       "  </tbody>\n",
       "</table>\n",
       "</div>"
      ],
      "text/plain": [
       "    val_loss  val_accuracy      loss  accuracy\n",
       "10  0.942059      0.697976  0.956941  0.698155\n",
       "11  0.908306      0.707976  0.921067  0.710655\n",
       "12  0.880802      0.714167  0.890765  0.720417\n",
       "13  0.857557      0.724167  0.864835  0.728304\n",
       "14  0.837791      0.727024  0.843048  0.734375\n",
       "15  0.820489      0.735238  0.824169  0.740327\n",
       "16  0.806187      0.737024  0.808030  0.743393\n",
       "17  0.794224      0.738452  0.794140  0.747589\n",
       "18  0.782268      0.744643  0.782165  0.750298\n",
       "19  0.772296      0.748333  0.771481  0.753839"
      ]
     },
     "execution_count": 154,
     "metadata": {},
     "output_type": "execute_result"
    }
   ],
   "source": [
    "# loss function이 점점 줄어듦 (tail로 확인)\n",
    "pd.DataFrame(history.history).tail(10)"
   ]
  },
  {
   "cell_type": "code",
   "execution_count": 155,
   "metadata": {},
   "outputs": [],
   "source": [
    "# tessorboard 이용해서 확인\n",
    "# cmd > tensorboard --logdir=\"./logs_2019-09-26_1428\""
   ]
  },
  {
   "cell_type": "markdown",
   "metadata": {},
   "source": [
    "# 6-1. 재학습"
   ]
  },
  {
   "cell_type": "code",
   "execution_count": 178,
   "metadata": {},
   "outputs": [],
   "source": [
    "# 모델 초기화\n",
    "model = Sequential()"
   ]
  },
  {
   "cell_type": "code",
   "execution_count": 179,
   "metadata": {},
   "outputs": [
    {
     "name": "stdout",
     "output_type": "stream",
     "text": [
      "Model: \"sequential_9\"\n",
      "_________________________________________________________________\n",
      "Layer (type)                 Output Shape              Param #   \n",
      "=================================================================\n",
      "flatten_9 (Flatten)          (None, 784)               0         \n",
      "_________________________________________________________________\n",
      "dense_17 (Dense)             (None, 8)                 6280      \n",
      "_________________________________________________________________\n",
      "dense_18 (Dense)             (None, 10)                90        \n",
      "=================================================================\n",
      "Total params: 6,370\n",
      "Trainable params: 6,370\n",
      "Non-trainable params: 0\n",
      "_________________________________________________________________\n",
      "Epoch 1/20\n",
      "42000/42000 [==============================] - 2s 37us/step - loss: 2.0583 - accuracy: 0.4322\n",
      "Epoch 2/20\n",
      " 4928/42000 [==>...........................] - ETA: 1s - loss: 1.6517 - accuracy: 0.5526"
     ]
    },
    {
     "name": "stderr",
     "output_type": "stream",
     "text": [
      "C:\\Users\\User\\Anaconda3\\lib\\site-packages\\keras\\callbacks\\callbacks.py:846: RuntimeWarning: Early stopping conditioned on metric `acc` which is not available. Available metrics are: loss,accuracy\n",
      "  (self.monitor, ','.join(list(logs.keys()))), RuntimeWarning\n"
     ]
    },
    {
     "name": "stdout",
     "output_type": "stream",
     "text": [
      "42000/42000 [==============================] - 1s 34us/step - loss: 1.4263 - accuracy: 0.6305\n",
      "Epoch 3/20\n",
      "42000/42000 [==============================] - 1s 35us/step - loss: 1.0755 - accuracy: 0.7256\n",
      "Epoch 4/20\n",
      "42000/42000 [==============================] - 1s 33us/step - loss: 0.8771 - accuracy: 0.7691\n",
      "Epoch 5/20\n",
      "42000/42000 [==============================] - 1s 33us/step - loss: 0.7539 - accuracy: 0.7954\n",
      "Epoch 6/20\n",
      "42000/42000 [==============================] - 1s 31us/step - loss: 0.6716 - accuracy: 0.8119\n",
      "Epoch 7/20\n",
      "42000/42000 [==============================] - 1s 33us/step - loss: 0.6130 - accuracy: 0.8270\n",
      "Epoch 8/20\n",
      "42000/42000 [==============================] - 2s 38us/step - loss: 0.5689 - accuracy: 0.8395\n",
      "Epoch 9/20\n",
      "42000/42000 [==============================] - 1s 35us/step - loss: 0.5339 - accuracy: 0.8487\n",
      "Epoch 10/20\n",
      "42000/42000 [==============================] - 2s 37us/step - loss: 0.5056 - accuracy: 0.8569\n",
      "Epoch 11/20\n",
      "42000/42000 [==============================] - 1s 34us/step - loss: 0.4820 - accuracy: 0.8633\n",
      "Epoch 12/20\n",
      "42000/42000 [==============================] - 1s 34us/step - loss: 0.4622 - accuracy: 0.8690\n",
      "Epoch 13/20\n",
      "42000/42000 [==============================] - 1s 33us/step - loss: 0.4454 - accuracy: 0.8731\n",
      "Epoch 14/20\n",
      "42000/42000 [==============================] - 1s 35us/step - loss: 0.4312 - accuracy: 0.8767\n",
      "Epoch 15/20\n",
      "42000/42000 [==============================] - 2s 37us/step - loss: 0.4186 - accuracy: 0.8800\n",
      "Epoch 16/20\n",
      "42000/42000 [==============================] - 1s 30us/step - loss: 0.4079 - accuracy: 0.8837\n",
      "Epoch 17/20\n",
      "42000/42000 [==============================] - 1s 34us/step - loss: 0.3985 - accuracy: 0.8855\n",
      "Epoch 18/20\n",
      "42000/42000 [==============================] - 1s 35us/step - loss: 0.3902 - accuracy: 0.8875\n",
      "Epoch 19/20\n",
      "42000/42000 [==============================] - 2s 36us/step - loss: 0.3829 - accuracy: 0.8895\n",
      "Epoch 20/20\n",
      "42000/42000 [==============================] - 1s 33us/step - loss: 0.3761 - accuracy: 0.8917\n"
     ]
    }
   ],
   "source": [
    "# 신경망의 첫 번째 레이어에서 입력 데이터 크기를 정의해야 합니다.\n",
    "model.add(Flatten(input_shape=modelDim))\n",
    "\n",
    "# 8개의 뉴런 레이어를 추가한다\n",
    "model.add(Dense(8, activation='relu'))\n",
    "\n",
    "# 소프트 맥스를 통해서 activation한다\n",
    "model.add(Dense(nClasses, activation='softmax'))\n",
    "\n",
    "# model.summary()를 통해 모델을 살펴보세요.\n",
    "model.summary()\n",
    "model.compile(optimizer='adam', \n",
    "              loss='categorical_crossentropy', \n",
    "              metrics=['accuracy'])\n",
    "\n",
    "callbacks = [\n",
    "    \n",
    "    # 텐서보드 활용\n",
    "    keras.callbacks.TensorBoard(\n",
    "    log_dir = save_dir,\n",
    "    write_graph=True,\n",
    "    write_images=True)\n",
    "    ,  \n",
    "    # 과적합 피하기 (계속해서 학습시키면 나중에 오차가 더 높아진다. 미리 끊어줌)\n",
    "    # patience -> 몇번 연속 손실을 참을것인가\n",
    "    keras.callbacks.EarlyStopping(\n",
    "    monitor = 'acc', patience=10,\n",
    "    )\n",
    "]\n",
    "\n",
    "\n",
    "# 에포크를 3정도만 줘서 일단 accuracy가 낮은 상태가 된것을 확인\n",
    "history = model.fit(train_data, train_labels_one_hot, \n",
    "                    batch_size=32,\n",
    "                    epochs=20,\n",
    "                    shuffle=True,\n",
    "                    callbacks = callbacks)"
   ]
  },
  {
   "cell_type": "markdown",
   "metadata": {},
   "source": [
    "## 6-1) 모델저장"
   ]
  },
  {
   "cell_type": "code",
   "execution_count": 180,
   "metadata": {},
   "outputs": [],
   "source": [
    "model_json = model.to_json()"
   ]
  },
  {
   "cell_type": "code",
   "execution_count": 181,
   "metadata": {},
   "outputs": [],
   "source": [
    "with open(\"model.json\", \"w\") as json_file:\n",
    "    json_file.write(model_json)"
   ]
  },
  {
   "cell_type": "code",
   "execution_count": 182,
   "metadata": {},
   "outputs": [],
   "source": [
    "model.save_weights(\"classlogic.h5\")"
   ]
  },
  {
   "cell_type": "markdown",
   "metadata": {},
   "source": [
    "## 6-2) 모델불러오기"
   ]
  },
  {
   "cell_type": "code",
   "execution_count": 183,
   "metadata": {},
   "outputs": [],
   "source": [
    "from keras.models import model_from_json"
   ]
  },
  {
   "cell_type": "code",
   "execution_count": 184,
   "metadata": {},
   "outputs": [],
   "source": [
    "json_file = open(\"model.json\", \"r\")\n",
    "loaded_model_json = json_file.read()\n",
    "json_file.close()"
   ]
  },
  {
   "cell_type": "code",
   "execution_count": 185,
   "metadata": {},
   "outputs": [],
   "source": [
    "loaded_model = model_from_json(loaded_model_json)\n",
    "loaded_model.load_weights(\"classlogic.h5\")"
   ]
  },
  {
   "cell_type": "markdown",
   "metadata": {},
   "source": [
    "## 6-3) 모델 재컴파일"
   ]
  },
  {
   "cell_type": "code",
   "execution_count": 186,
   "metadata": {},
   "outputs": [],
   "source": [
    "# 모델 재 컴파일 \n",
    "loaded_model.compile(optimizer='adam', \n",
    "              loss='categorical_crossentropy', \n",
    "              metrics=['accuracy'])\n"
   ]
  },
  {
   "cell_type": "markdown",
   "metadata": {},
   "source": [
    "## 6-4) 모델 재학습"
   ]
  },
  {
   "cell_type": "code",
   "execution_count": 187,
   "metadata": {},
   "outputs": [],
   "source": [
    "from keras.callbacks import EarlyStopping \n",
    "early_stopping_monitor = EarlyStopping(patience=50) \n",
    "EPOCHS = 10"
   ]
  },
  {
   "cell_type": "code",
   "execution_count": 188,
   "metadata": {},
   "outputs": [
    {
     "name": "stdout",
     "output_type": "stream",
     "text": [
      "Epoch 1/10\n",
      "33600/33600 [==============================] - 1s 38us/step - loss: 0.3701 - accuracy: 0.8929\n",
      "Epoch 2/10\n",
      " 4320/33600 [==>...........................] - ETA: 1s - loss: 0.3734 - accuracy: 0.8926"
     ]
    },
    {
     "name": "stderr",
     "output_type": "stream",
     "text": [
      "C:\\Users\\User\\Anaconda3\\lib\\site-packages\\keras\\callbacks\\callbacks.py:846: RuntimeWarning: Early stopping conditioned on metric `acc` which is not available. Available metrics are: loss,accuracy\n",
      "  (self.monitor, ','.join(list(logs.keys()))), RuntimeWarning\n"
     ]
    },
    {
     "name": "stdout",
     "output_type": "stream",
     "text": [
      "33600/33600 [==============================] - 1s 37us/step - loss: 0.3656 - accuracy: 0.8945\n",
      "Epoch 3/10\n",
      "33600/33600 [==============================] - 1s 35us/step - loss: 0.3614 - accuracy: 0.8956\n",
      "Epoch 4/10\n",
      "33600/33600 [==============================] - 1s 41us/step - loss: 0.3574 - accuracy: 0.8960\n",
      "Epoch 5/10\n",
      "33600/33600 [==============================] - 1s 37us/step - loss: 0.3539 - accuracy: 0.8976\n",
      "Epoch 6/10\n",
      "33600/33600 [==============================] - 1s 36us/step - loss: 0.3503 - accuracy: 0.8988\n",
      "Epoch 7/10\n",
      "33600/33600 [==============================] - 1s 37us/step - loss: 0.3471 - accuracy: 0.8990\n",
      "Epoch 8/10\n",
      "33600/33600 [==============================] - 1s 34us/step - loss: 0.3442 - accuracy: 0.8997\n",
      "Epoch 9/10\n",
      "33600/33600 [==============================] - 1s 35us/step - loss: 0.3415 - accuracy: 0.9009\n",
      "Epoch 10/10\n",
      "33600/33600 [==============================] - 1s 36us/step - loss: 0.3388 - accuracy: 0.9014\n"
     ]
    }
   ],
   "source": [
    "#모델 훈련 (훈련/검증을 80%, 20%로 나눔) \n",
    "history =loaded_model.fit(trainingData_features, trainingData_label,\n",
    "                          batch_size=32,\n",
    "                          epochs= EPOCHS, \n",
    "                          #callbacks=[early_stopping_monitor]\n",
    "                          callbacks = callbacks\n",
    "                         )\n"
   ]
  },
  {
   "cell_type": "code",
   "execution_count": null,
   "metadata": {},
   "outputs": [],
   "source": []
  },
  {
   "cell_type": "markdown",
   "metadata": {},
   "source": [
    "# 7. 모델 추론"
   ]
  },
  {
   "cell_type": "code",
   "execution_count": 189,
   "metadata": {},
   "outputs": [
    {
     "name": "stdout",
     "output_type": "stream",
     "text": [
      "200/200 [==============================] - 0s 339us/step\n",
      "0.29865558743476867 0.925000011920929\n"
     ]
    }
   ],
   "source": [
    "# verbose: 정보표시 레벨 (0,1)\n",
    "test_loss, test_acc = model.evaluate(test_data, \n",
    "                                     test_labels_one_hot)\n",
    "print(test_loss, test_acc)\n"
   ]
  },
  {
   "cell_type": "markdown",
   "metadata": {},
   "source": [
    "# 8. 훈련내용 확인하기 (Tensorboard)"
   ]
  },
  {
   "cell_type": "code",
   "execution_count": 190,
   "metadata": {},
   "outputs": [],
   "source": [
    "# tessorboard 이용해서 확인\n",
    "# cmd > tensorboard --logdir=\"./logs_2019-09-26_1428\""
   ]
  },
  {
   "cell_type": "markdown",
   "metadata": {},
   "source": [
    "# 9. 예측 및 비교"
   ]
  },
  {
   "cell_type": "code",
   "execution_count": 191,
   "metadata": {},
   "outputs": [
    {
     "data": {
      "text/plain": [
       "<matplotlib.image.AxesImage at 0x2293e4ee630>"
      ]
     },
     "execution_count": 191,
     "metadata": {},
     "output_type": "execute_result"
    },
    {
     "data": {
      "image/png": "[encoded data removed]",
      "text/plain": [
       "<Figure size 432x288 with 1 Axes>"
      ]
     },
     "metadata": {
      "needs_background": "light"
     },
     "output_type": "display_data"
    }
   ],
   "source": [
    "prd_images = []\n",
    "imgpah=\"../images/mnist/testSet/5/img_24.jpg\"\n",
    "img = cv2.imread(imgpah, cv2.IMREAD_GRAYSCALE)\n",
    "prd_images.append(img)\n",
    "prd_images=array(prd_images)\n",
    "\n",
    "plt.imshow(img, cmap=\"gray\")"
   ]
  },
  {
   "cell_type": "code",
   "execution_count": 192,
   "metadata": {},
   "outputs": [],
   "source": [
    "test_data2 = prd_images.reshape(len(prd_images) , IMG_SIZE, IMG_SIZE)\n",
    "test_data2 = test_data2.astype('float')\n",
    "test_data2 /= 255"
   ]
  },
  {
   "cell_type": "code",
   "execution_count": 193,
   "metadata": {},
   "outputs": [],
   "source": [
    "# Predict the most likely class\n",
    "label_pred = model.predict(test_data2[[0],:])"
   ]
  },
  {
   "cell_type": "code",
   "execution_count": 194,
   "metadata": {},
   "outputs": [
    {
     "data": {
      "text/plain": [
       "array([[0., 0., 0., 0., 0., 1., 0., 0., 0., 0.]], dtype=float32)"
      ]
     },
     "execution_count": 194,
     "metadata": {},
     "output_type": "execute_result"
    }
   ],
   "source": [
    "label_pred"
   ]
  },
  {
   "cell_type": "code",
   "execution_count": 195,
   "metadata": {},
   "outputs": [
    {
     "data": {
      "text/plain": [
       "5"
      ]
     },
     "execution_count": 195,
     "metadata": {},
     "output_type": "execute_result"
    }
   ],
   "source": [
    "np.argmax(label_pred)"
   ]
  },
  {
   "cell_type": "markdown",
   "metadata": {},
   "source": [
    "### 다른모델 생성 (과적합 회피)"
   ]
  },
  {
   "cell_type": "code",
   "execution_count": 199,
   "metadata": {
    "scrolled": true
   },
   "outputs": [
    {
     "name": "stderr",
     "output_type": "stream",
     "text": [
      "W0918 18:20:26.298769 19452 deprecation.py:506] From C:\\Users\\kopo\\Anaconda3\\lib\\site-packages\\keras\\backend\\tensorflow_backend.py:3445: calling dropout (from tensorflow.python.ops.nn_ops) with keep_prob is deprecated and will be removed in a future version.\n",
      "Instructions for updating:\n",
      "Please use `rate` instead of `keep_prob`. Rate should be set to `rate = 1 - keep_prob`.\n"
     ]
    },
    {
     "name": "stdout",
     "output_type": "stream",
     "text": [
      "_________________________________________________________________\n",
      "Layer (type)                 Output Shape              Param #   \n",
      "=================================================================\n",
      "flatten_6 (Flatten)          (None, 784)               0         \n",
      "_________________________________________________________________\n",
      "dropout_1 (Dropout)          (None, 784)               0         \n",
      "_________________________________________________________________\n",
      "dense_9 (Dense)              (None, 8)                 6280      \n",
      "_________________________________________________________________\n",
      "dropout_2 (Dropout)          (None, 8)                 0         \n",
      "_________________________________________________________________\n",
      "dense_10 (Dense)             (None, 10)                90        \n",
      "=================================================================\n",
      "Total params: 6,370\n",
      "Trainable params: 6,370\n",
      "Non-trainable params: 0\n",
      "_________________________________________________________________\n"
     ]
    }
   ],
   "source": [
    "from keras.layers import Dropout\n",
    "\n",
    "# 입력데이터 형태\n",
    "modelDim = train_data[0].shape\n",
    "\n",
    "# 층 누적 기본형태\n",
    "model = Sequential()\n",
    "\n",
    "# 신경망의 첫 번째 레이어에서 입력 데이터 크기를 정의해야 합니다.\n",
    "model.add(Flatten(input_shape=modelDim))\n",
    "model.add(Dropout(0.5))\n",
    "model.add(Dense(8, activation='relu'))\n",
    "model.add(Dropout(0.5))\n",
    "model.add(Dense(nClasses, activation='softmax'))\n",
    "\n",
    "# model.summary()를 통해 모델을 살펴보세요.\n",
    "model.summary()"
   ]
  }
 ],
 "metadata": {
  "kernelspec": {
   "display_name": "Python 3",
   "language": "python",
   "name": "python3"
  },
  "language_info": {
   "codemirror_mode": {
    "name": "ipython",
    "version": 3
   },
   "file_extension": ".py",
   "mimetype": "text/x-python",
   "name": "python",
   "nbconvert_exporter": "python",
   "pygments_lexer": "ipython3",
   "version": "3.7.3"
  }
 },
 "nbformat": 4,
 "nbformat_minor": 2
}
